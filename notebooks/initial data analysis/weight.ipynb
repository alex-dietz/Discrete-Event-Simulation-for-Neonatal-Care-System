{
 "cells": [
  {
   "cell_type": "markdown",
   "metadata": {},
   "source": [
    "<h1> Birth Weight Prediction </h1>\n",
    "\n",
    "This notebook was used to obtain the coefficients for the OLS regression of gestational age on birth weight."
   ]
  },
  {
   "cell_type": "code",
   "execution_count": null,
   "metadata": {},
   "outputs": [],
   "source": [
    "import numpy as np\n",
    "import pandas as pd\n",
    "import seaborn as sns\n",
    "\n",
    "import matplotlib.pyplot as plt\n",
    "#seaborn settings\n",
    "sns.set(style=\"whitegrid\",palette=\"colorblind\",font_scale=1.5)\n",
    "sns.set_context(\"paper\")\n",
    "sns.set_context(\"paper\")\n",
    "sns.despine(left=True,right=True)"
   ]
  },
  {
   "cell_type": "code",
   "execution_count": null,
   "metadata": {},
   "outputs": [],
   "source": [
    "df = pd.read_csv('example_dataset.csv')"
   ]
  },
  {
   "cell_type": "code",
   "execution_count": null,
   "metadata": {},
   "outputs": [],
   "source": [
    "#show distribution of geboortegew\n",
    "plt.figure(figsize=(10,6),dpi=400)\n",
    "sns.histplot(df['birth_weight'],bins=100,stat='density')\n",
    "plt.xlabel('birth weight in grams')\n",
    "plt.ylabel('density')\n",
    "plt.title('Distribution of birth weights')\n",
    "plt.show()"
   ]
  },
  {
   "cell_type": "code",
   "execution_count": null,
   "metadata": {},
   "outputs": [],
   "source": [
    "#show stats of geboortegew\n",
    "print(df['birth_weight'].describe())\n"
   ]
  },
  {
   "cell_type": "code",
   "execution_count": null,
   "metadata": {},
   "outputs": [],
   "source": [
    "df.info()"
   ]
  },
  {
   "cell_type": "code",
   "execution_count": null,
   "metadata": {},
   "outputs": [],
   "source": [
    "#filter out where amddd is nan\n",
    "df = df[df['gestational_age'].notna()]\n",
    "#filter out where weight is nan\n",
    "df = df[df['birth_weight'].notna()]"
   ]
  },
  {
   "cell_type": "code",
   "execution_count": null,
   "metadata": {},
   "outputs": [],
   "source": [
    "#ln of geboortegew\n",
    "df['ln_birth_weight'] = np.log(df['birth_weight'])\n"
   ]
  },
  {
   "cell_type": "code",
   "execution_count": null,
   "metadata": {},
   "outputs": [],
   "source": [
    "#filter out where amddd > 260 and ln_geboortegew < 7.2, filter out both\n",
    "df_filtered = df[~((df['gestational_age'] > 250) & (df['ln_birth_weight'] < 7.2))]"
   ]
  },
  {
   "cell_type": "code",
   "execution_count": null,
   "metadata": {},
   "outputs": [],
   "source": [
    "#plot weight against amddd with regression line\n",
    "#sns.regplot(data=df,x='amddd',y='ln_geboortegew')\n",
    "#dpi 400\n",
    "plt.figure(figsize=(10,6),dpi=400)\n",
    "sns.scatterplot(data=df_filtered,x='gestational_age',y='birth_weight')\n",
    "#ylabel\n",
    "plt.ylabel('birth weight')\n",
    "#xlabel\n",
    "plt.xlabel('gestational age in weeks')\n"
   ]
  },
  {
   "cell_type": "code",
   "execution_count": null,
   "metadata": {},
   "outputs": [],
   "source": [
    "plt.figure(figsize=(10,6),dpi=400)\n",
    "sns.scatterplot(data=df_filtered,x='gestational_age',y='ln_birth_weight')\n",
    "#ylabel\n",
    "plt.ylabel('ln birth weight')\n",
    "#xlabel\n",
    "plt.xlabel('gestational age in weeks')\n",
    "\n"
   ]
  },
  {
   "cell_type": "code",
   "execution_count": null,
   "metadata": {},
   "outputs": [],
   "source": [
    "#average weight by gesl\n",
    "print(df_filtered.groupby('c_section')['birth_weight'].mean())"
   ]
  },
  {
   "cell_type": "code",
   "execution_count": null,
   "metadata": {},
   "outputs": [],
   "source": [
    "#set is_male\n",
    "df['is_male'] = df['sex'].apply(lambda x: 1 if x == 1 else 0)"
   ]
  },
  {
   "cell_type": "code",
   "execution_count": null,
   "metadata": {},
   "outputs": [],
   "source": [
    "#OLS regression\n",
    "import statsmodels.api as sm\n",
    "X = df[['gestational_age']]\n",
    "X = sm.add_constant(X)\n",
    "y = df['ln_birth_weight']\n",
    "model = sm.OLS(y,X)\n",
    "results = model.fit()\n",
    "print(results.summary())\n",
    "\n",
    "\n"
   ]
  },
  {
   "cell_type": "code",
   "execution_count": null,
   "metadata": {},
   "outputs": [],
   "source": [
    "residuals = results.resid\n",
    "residual_std = residuals.std()\n",
    "mse = residuals.var()\n",
    "r2 = results.rsquared\n",
    "print(f\"Residual std: {residual_std}\")\n",
    "print(f\"Residual mse: {mse}\")\n",
    "print(f\"R2: {r2}\")\n",
    "\n",
    "\n"
   ]
  },
  {
   "cell_type": "code",
   "execution_count": null,
   "metadata": {},
   "outputs": [],
   "source": [
    "#plot residuals\n",
    "sns.histplot(residuals,bins=20,stat='density')"
   ]
  }
 ],
 "metadata": {
  "kernelspec": {
   "display_name": ".venv",
   "language": "python",
   "name": "python3"
  },
  "language_info": {
   "codemirror_mode": {
    "name": "ipython",
    "version": 3
   },
   "file_extension": ".py",
   "mimetype": "text/x-python",
   "name": "python",
   "nbconvert_exporter": "python",
   "pygments_lexer": "ipython3",
   "version": "3.12.2"
  }
 },
 "nbformat": 4,
 "nbformat_minor": 2
}
