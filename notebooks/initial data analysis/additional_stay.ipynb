{
 "cells": [
  {
   "cell_type": "markdown",
   "metadata": {},
   "source": [
    "<h1>Patient Pathway</h1>\n",
    "\n",
    "This notebook was used to gain information on the patient pathways in the dataset."
   ]
  },
  {
   "cell_type": "code",
   "execution_count": 29,
   "metadata": {},
   "outputs": [
    {
     "data": {
      "text/plain": [
       "<Figure size 640x480 with 0 Axes>"
      ]
     },
     "metadata": {},
     "output_type": "display_data"
    }
   ],
   "source": [
    "import numpy as np\n",
    "import pandas as pd\n",
    "import seaborn as sns\n",
    "\n",
    "import matplotlib.pyplot as plt\n",
    "#seaborn settings\n",
    "sns.set_theme(style=\"whitegrid\")\n",
    "sns.set_context(\"paper\")\n",
    "sns.despine(left=True,right=True)"
   ]
  },
  {
   "cell_type": "code",
   "execution_count": 30,
   "metadata": {},
   "outputs": [],
   "source": [
    "df = pd.read_csv(\"example_dataset.csv\")"
   ]
  },
  {
   "cell_type": "code",
   "execution_count": 31,
   "metadata": {},
   "outputs": [
    {
     "name": "stdout",
     "output_type": "stream",
     "text": [
      "Number of admissions with stay_number > 1:  78\n"
     ]
    }
   ],
   "source": [
    "#number of admissions with stay_number > 1\n",
    "df_stay = df[df['stay_number'] > 1]\n",
    "print(\"Number of admissions with stay_number > 1: \", len(df_stay))"
   ]
  },
  {
   "cell_type": "code",
   "execution_count": 32,
   "metadata": {},
   "outputs": [
    {
     "name": "stdout",
     "output_type": "stream",
     "text": [
      "Number of linkid with stay_number > 1:  53\n"
     ]
    }
   ],
   "source": [
    "#number of linkid with stay_number > 1\n",
    "df_stay_linkid = df_stay['patient_id'].unique()\n",
    "print(\"Number of linkid with stay_number > 1: \", len(df_stay_linkid))"
   ]
  },
  {
   "cell_type": "code",
   "execution_count": 33,
   "metadata": {},
   "outputs": [
    {
     "data": {
      "text/html": [
       "<div>\n",
       "<style scoped>\n",
       "    .dataframe tbody tr th:only-of-type {\n",
       "        vertical-align: middle;\n",
       "    }\n",
       "\n",
       "    .dataframe tbody tr th {\n",
       "        vertical-align: top;\n",
       "    }\n",
       "\n",
       "    .dataframe thead th {\n",
       "        text-align: right;\n",
       "    }\n",
       "</style>\n",
       "<table border=\"1\" class=\"dataframe\">\n",
       "  <thead>\n",
       "    <tr style=\"text-align: right;\">\n",
       "      <th></th>\n",
       "      <th>patient_id</th>\n",
       "      <th>number_of_children</th>\n",
       "      <th>sex</th>\n",
       "      <th>birth_weight</th>\n",
       "      <th>hoftiezer</th>\n",
       "      <th>nicu_admission</th>\n",
       "      <th>stay_number</th>\n",
       "      <th>start_date</th>\n",
       "      <th>end_date</th>\n",
       "      <th>hospital_id</th>\n",
       "      <th>...</th>\n",
       "      <th>others_indicator</th>\n",
       "      <th>region</th>\n",
       "      <th>hospital</th>\n",
       "      <th>ward</th>\n",
       "      <th>ward_level</th>\n",
       "      <th>c_section</th>\n",
       "      <th>season</th>\n",
       "      <th>month</th>\n",
       "      <th>year</th>\n",
       "      <th>gestational_age</th>\n",
       "    </tr>\n",
       "  </thead>\n",
       "  <tbody>\n",
       "  </tbody>\n",
       "</table>\n",
       "<p>0 rows × 46 columns</p>\n",
       "</div>"
      ],
      "text/plain": [
       "Empty DataFrame\n",
       "Columns: [patient_id, number_of_children, sex, birth_weight, hoftiezer, nicu_admission, stay_number, start_date, end_date, hospital_id, length_of_stay, thrombocytopenia_treatment, antibiotics_treatment, hypothermia, antenatal_steroids_treatment, phototherapy, polycythemia_treatment, sepsis_treatment, anemia_treatment, oxygen_days, hfo_days, cpap_days, gestational_age_indicator, birth_weight_indicator, cardiovascular_indicator, jaundice_indicator, hypoglycemia_indicator, infection_indicator, asphyxia_indicator, seizure_indicator, feeding_indicator, congenital_abnormality_indicator, withdrawal_indicator, maternal_medication_indicator, psycho_indicator, postIC_indicator, others_indicator, region, hospital, ward, ward_level, c_section, season, month, year, gestational_age]\n",
       "Index: []\n",
       "\n",
       "[0 rows x 46 columns]"
      ]
     },
     "execution_count": 33,
     "metadata": {},
     "output_type": "execute_result"
    }
   ],
   "source": [
    "# Group rows by 'linkid'\n",
    "groups = df.groupby('patient_id')\n",
    "\n",
    "# Check if a group has multiple rows and at least one 'ward_level' is 'unknown'\n",
    "result = groups.filter(lambda x: (x['ward_level'] == 'unknown').any() and len(x) > 1)\n",
    "\n",
    "# Print the result\n",
    "result"
   ]
  },
  {
   "cell_type": "code",
   "execution_count": 34,
   "metadata": {},
   "outputs": [],
   "source": [
    "#filter out ward_level unknown\n",
    "df = df[df['ward_level'] != 'unknown']\n"
   ]
  },
  {
   "cell_type": "code",
   "execution_count": 35,
   "metadata": {},
   "outputs": [
    {
     "data": {
      "text/plain": [
       "ward_level\n",
       "Medium    0.42\n",
       "NICU      0.31\n",
       "High      0.27\n",
       "Name: proportion, dtype: float64"
      ]
     },
     "execution_count": 35,
     "metadata": {},
     "output_type": "execute_result"
    }
   ],
   "source": [
    "df['ward_level'].value_counts(normalize=True)"
   ]
  },
  {
   "cell_type": "code",
   "execution_count": 36,
   "metadata": {},
   "outputs": [],
   "source": [
    "patient_journeys = df.groupby('patient_id')['ward_level'].apply(list).reset_index()\n"
   ]
  },
  {
   "cell_type": "code",
   "execution_count": 37,
   "metadata": {},
   "outputs": [
    {
     "name": "stdout",
     "output_type": "stream",
     "text": [
      "<class 'pandas.core.frame.DataFrame'>\n",
      "RangeIndex: 65 entries, 0 to 64\n",
      "Data columns (total 2 columns):\n",
      " #   Column      Non-Null Count  Dtype \n",
      "---  ------      --------------  ----- \n",
      " 0   patient_id  65 non-null     int64 \n",
      " 1   ward_level  65 non-null     object\n",
      "dtypes: int64(1), object(1)\n",
      "memory usage: 1.1+ KB\n"
     ]
    }
   ],
   "source": [
    "patient_journeys.info()"
   ]
  },
  {
   "cell_type": "code",
   "execution_count": 38,
   "metadata": {},
   "outputs": [
    {
     "data": {
      "text/html": [
       "<div>\n",
       "<style scoped>\n",
       "    .dataframe tbody tr th:only-of-type {\n",
       "        vertical-align: middle;\n",
       "    }\n",
       "\n",
       "    .dataframe tbody tr th {\n",
       "        vertical-align: top;\n",
       "    }\n",
       "\n",
       "    .dataframe thead th {\n",
       "        text-align: right;\n",
       "    }\n",
       "</style>\n",
       "<table border=\"1\" class=\"dataframe\">\n",
       "  <thead>\n",
       "    <tr style=\"text-align: right;\">\n",
       "      <th></th>\n",
       "      <th>patient_id</th>\n",
       "      <th>ward_level</th>\n",
       "    </tr>\n",
       "  </thead>\n",
       "  <tbody>\n",
       "    <tr>\n",
       "      <th>0</th>\n",
       "      <td>1000</td>\n",
       "      <td>[Medium]</td>\n",
       "    </tr>\n",
       "    <tr>\n",
       "      <th>1</th>\n",
       "      <td>1001</td>\n",
       "      <td>[NICU, High, NICU]</td>\n",
       "    </tr>\n",
       "    <tr>\n",
       "      <th>2</th>\n",
       "      <td>1005</td>\n",
       "      <td>[NICU]</td>\n",
       "    </tr>\n",
       "    <tr>\n",
       "      <th>3</th>\n",
       "      <td>1006</td>\n",
       "      <td>[NICU]</td>\n",
       "    </tr>\n",
       "    <tr>\n",
       "      <th>4</th>\n",
       "      <td>1007</td>\n",
       "      <td>[High]</td>\n",
       "    </tr>\n",
       "    <tr>\n",
       "      <th>...</th>\n",
       "      <td>...</td>\n",
       "      <td>...</td>\n",
       "    </tr>\n",
       "    <tr>\n",
       "      <th>60</th>\n",
       "      <td>1093</td>\n",
       "      <td>[NICU]</td>\n",
       "    </tr>\n",
       "    <tr>\n",
       "      <th>61</th>\n",
       "      <td>1094</td>\n",
       "      <td>[Medium]</td>\n",
       "    </tr>\n",
       "    <tr>\n",
       "      <th>62</th>\n",
       "      <td>1095</td>\n",
       "      <td>[Medium]</td>\n",
       "    </tr>\n",
       "    <tr>\n",
       "      <th>63</th>\n",
       "      <td>1096</td>\n",
       "      <td>[Medium]</td>\n",
       "    </tr>\n",
       "    <tr>\n",
       "      <th>64</th>\n",
       "      <td>1098</td>\n",
       "      <td>[Medium]</td>\n",
       "    </tr>\n",
       "  </tbody>\n",
       "</table>\n",
       "<p>65 rows × 2 columns</p>\n",
       "</div>"
      ],
      "text/plain": [
       "    patient_id          ward_level\n",
       "0         1000            [Medium]\n",
       "1         1001  [NICU, High, NICU]\n",
       "2         1005              [NICU]\n",
       "3         1006              [NICU]\n",
       "4         1007              [High]\n",
       "..         ...                 ...\n",
       "60        1093              [NICU]\n",
       "61        1094            [Medium]\n",
       "62        1095            [Medium]\n",
       "63        1096            [Medium]\n",
       "64        1098            [Medium]\n",
       "\n",
       "[65 rows x 2 columns]"
      ]
     },
     "execution_count": 38,
     "metadata": {},
     "output_type": "execute_result"
    }
   ],
   "source": [
    "patient_journeys"
   ]
  },
  {
   "cell_type": "code",
   "execution_count": 39,
   "metadata": {},
   "outputs": [],
   "source": [
    "test = df.groupby('patient_id').agg({'ward_level': lambda x: tuple(x),\n",
    "                                     'length_of_stay':['sum','mean']\n",
    "                                     }).reset_index()\n",
    "\n"
   ]
  },
  {
   "cell_type": "code",
   "execution_count": 40,
   "metadata": {},
   "outputs": [
    {
     "name": "stderr",
     "output_type": "stream",
     "text": [
      "/var/folders/gv/n0kqs93x29v30b0cfl5tzr140000gn/T/ipykernel_68449/1159742095.py:15: DeprecationWarning: DataFrameGroupBy.apply operated on the grouping columns. This behavior is deprecated, and in a future version of pandas the grouping columns will be excluded from the operation. Either pass `include_groups=False` to exclude the groupings or explicitly select the grouping columns after groupby to silence this warning.\n",
      "  combined_df = df.groupby('patient_id').apply(combine_consecutive_ward_levels).reset_index()\n"
     ]
    }
   ],
   "source": [
    "def combine_consecutive_ward_levels(group):\n",
    "    combined_wards = []\n",
    "    combined_stays = []\n",
    "    previous_ward = None\n",
    "    for ward, stay in zip(group['ward'], group['length_of_stay']):\n",
    "        if ward == previous_ward:\n",
    "                    combined_stays[-1] += stay\n",
    "        else:\n",
    "                    combined_wards.append(ward)\n",
    "                    combined_stays.append(stay)\n",
    "        previous_ward = ward\n",
    " \n",
    "    return pd.Series({'combined_wards': tuple(combined_wards), 'total_length_of_stay': sum(combined_stays)})\n",
    " \n",
    "combined_df = df.groupby('patient_id').apply(combine_consecutive_ward_levels).reset_index()\n",
    " \n",
    "# Step 2: Group by the combined ward combinations to get total and average length of stay\n",
    "ward_level_summary = combined_df.groupby('combined_wards').agg(\n",
    "    total_length_of_stay=('total_length_of_stay', 'sum'),\n",
    "    number_of_patients=('patient_id', 'nunique'),\n",
    "    number_of_admissions=('patient_id', 'size')  # count of admissions for each combination\n",
    ").reset_index()\n",
    " \n",
    "# Step 3: Calculate the average length of stay per admission\n",
    "ward_level_summary['average_length_of_stay_per_admission'] = ward_level_summary['total_length_of_stay'] / ward_level_summary['number_of_admissions']\n",
    " \n",
    "# Step 4: Calculate the total number of admissions\n",
    "total_admissions = ward_level_summary['number_of_admissions'].sum()\n",
    " \n",
    "# Step 5: Calculate the percentage of total admissions for each combination\n",
    "ward_level_summary['percentage_of_total_admissions'] = (ward_level_summary['number_of_admissions'] / total_admissions) * 100"
   ]
  },
  {
   "cell_type": "code",
   "execution_count": 41,
   "metadata": {},
   "outputs": [
    {
     "data": {
      "text/html": [
       "<div>\n",
       "<style scoped>\n",
       "    .dataframe tbody tr th:only-of-type {\n",
       "        vertical-align: middle;\n",
       "    }\n",
       "\n",
       "    .dataframe tbody tr th {\n",
       "        vertical-align: top;\n",
       "    }\n",
       "\n",
       "    .dataframe thead th {\n",
       "        text-align: right;\n",
       "    }\n",
       "</style>\n",
       "<table border=\"1\" class=\"dataframe\">\n",
       "  <thead>\n",
       "    <tr style=\"text-align: right;\">\n",
       "      <th></th>\n",
       "      <th>combined_wards</th>\n",
       "      <th>total_length_of_stay</th>\n",
       "      <th>number_of_patients</th>\n",
       "      <th>number_of_admissions</th>\n",
       "      <th>average_length_of_stay_per_admission</th>\n",
       "      <th>percentage_of_total_admissions</th>\n",
       "    </tr>\n",
       "  </thead>\n",
       "  <tbody>\n",
       "    <tr>\n",
       "      <th>4</th>\n",
       "      <td>(Medium,)</td>\n",
       "      <td>340</td>\n",
       "      <td>19</td>\n",
       "      <td>19</td>\n",
       "      <td>17.894737</td>\n",
       "      <td>29.230769</td>\n",
       "    </tr>\n",
       "    <tr>\n",
       "      <th>0</th>\n",
       "      <td>(High,)</td>\n",
       "      <td>282</td>\n",
       "      <td>18</td>\n",
       "      <td>18</td>\n",
       "      <td>15.666667</td>\n",
       "      <td>27.692308</td>\n",
       "    </tr>\n",
       "    <tr>\n",
       "      <th>7</th>\n",
       "      <td>(NICU,)</td>\n",
       "      <td>149</td>\n",
       "      <td>9</td>\n",
       "      <td>9</td>\n",
       "      <td>16.555556</td>\n",
       "      <td>13.846154</td>\n",
       "    </tr>\n",
       "    <tr>\n",
       "      <th>10</th>\n",
       "      <td>(NICU, Medium)</td>\n",
       "      <td>152</td>\n",
       "      <td>5</td>\n",
       "      <td>5</td>\n",
       "      <td>30.400000</td>\n",
       "      <td>7.692308</td>\n",
       "    </tr>\n",
       "    <tr>\n",
       "      <th>3</th>\n",
       "      <td>(High, NICU)</td>\n",
       "      <td>162</td>\n",
       "      <td>3</td>\n",
       "      <td>3</td>\n",
       "      <td>54.000000</td>\n",
       "      <td>4.615385</td>\n",
       "    </tr>\n",
       "    <tr>\n",
       "      <th>8</th>\n",
       "      <td>(NICU, High)</td>\n",
       "      <td>149</td>\n",
       "      <td>3</td>\n",
       "      <td>3</td>\n",
       "      <td>49.666667</td>\n",
       "      <td>4.615385</td>\n",
       "    </tr>\n",
       "    <tr>\n",
       "      <th>1</th>\n",
       "      <td>(High, Medium)</td>\n",
       "      <td>46</td>\n",
       "      <td>2</td>\n",
       "      <td>2</td>\n",
       "      <td>23.000000</td>\n",
       "      <td>3.076923</td>\n",
       "    </tr>\n",
       "    <tr>\n",
       "      <th>5</th>\n",
       "      <td>(Medium, High)</td>\n",
       "      <td>91</td>\n",
       "      <td>2</td>\n",
       "      <td>2</td>\n",
       "      <td>45.500000</td>\n",
       "      <td>3.076923</td>\n",
       "    </tr>\n",
       "    <tr>\n",
       "      <th>9</th>\n",
       "      <td>(NICU, High, NICU)</td>\n",
       "      <td>107</td>\n",
       "      <td>2</td>\n",
       "      <td>2</td>\n",
       "      <td>53.500000</td>\n",
       "      <td>3.076923</td>\n",
       "    </tr>\n",
       "    <tr>\n",
       "      <th>2</th>\n",
       "      <td>(High, Medium, High)</td>\n",
       "      <td>54</td>\n",
       "      <td>1</td>\n",
       "      <td>1</td>\n",
       "      <td>54.000000</td>\n",
       "      <td>1.538462</td>\n",
       "    </tr>\n",
       "    <tr>\n",
       "      <th>6</th>\n",
       "      <td>(Medium, NICU)</td>\n",
       "      <td>46</td>\n",
       "      <td>1</td>\n",
       "      <td>1</td>\n",
       "      <td>46.000000</td>\n",
       "      <td>1.538462</td>\n",
       "    </tr>\n",
       "  </tbody>\n",
       "</table>\n",
       "</div>"
      ],
      "text/plain": [
       "          combined_wards  total_length_of_stay  number_of_patients  \\\n",
       "4              (Medium,)                   340                  19   \n",
       "0                (High,)                   282                  18   \n",
       "7                (NICU,)                   149                   9   \n",
       "10        (NICU, Medium)                   152                   5   \n",
       "3           (High, NICU)                   162                   3   \n",
       "8           (NICU, High)                   149                   3   \n",
       "1         (High, Medium)                    46                   2   \n",
       "5         (Medium, High)                    91                   2   \n",
       "9     (NICU, High, NICU)                   107                   2   \n",
       "2   (High, Medium, High)                    54                   1   \n",
       "6         (Medium, NICU)                    46                   1   \n",
       "\n",
       "    number_of_admissions  average_length_of_stay_per_admission  \\\n",
       "4                     19                             17.894737   \n",
       "0                     18                             15.666667   \n",
       "7                      9                             16.555556   \n",
       "10                     5                             30.400000   \n",
       "3                      3                             54.000000   \n",
       "8                      3                             49.666667   \n",
       "1                      2                             23.000000   \n",
       "5                      2                             45.500000   \n",
       "9                      2                             53.500000   \n",
       "2                      1                             54.000000   \n",
       "6                      1                             46.000000   \n",
       "\n",
       "    percentage_of_total_admissions  \n",
       "4                        29.230769  \n",
       "0                        27.692308  \n",
       "7                        13.846154  \n",
       "10                        7.692308  \n",
       "3                         4.615385  \n",
       "8                         4.615385  \n",
       "1                         3.076923  \n",
       "5                         3.076923  \n",
       "9                         3.076923  \n",
       "2                         1.538462  \n",
       "6                         1.538462  "
      ]
     },
     "execution_count": 41,
     "metadata": {},
     "output_type": "execute_result"
    }
   ],
   "source": [
    "ward_level_summary.sort_values('number_of_patients',ascending=False)"
   ]
  },
  {
   "cell_type": "code",
   "execution_count": 42,
   "metadata": {},
   "outputs": [
    {
     "name": "stderr",
     "output_type": "stream",
     "text": [
      "/var/folders/gv/n0kqs93x29v30b0cfl5tzr140000gn/T/ipykernel_68449/1647684653.py:15: DeprecationWarning: DataFrameGroupBy.apply operated on the grouping columns. This behavior is deprecated, and in a future version of pandas the grouping columns will be excluded from the operation. Either pass `include_groups=False` to exclude the groupings or explicitly select the grouping columns after groupby to silence this warning.\n",
      "  combined_df = df.groupby('patient_id').apply(combine_consecutive_ward_levels).reset_index()\n"
     ]
    }
   ],
   "source": [
    "def combine_consecutive_ward_levels(group):\n",
    "    combined_wards = []\n",
    "    combined_stays = []\n",
    "    previous_ward = None\n",
    "    for ward, stay in zip(group['ward_level'], group['length_of_stay']):\n",
    "        if ward == previous_ward:\n",
    "                    combined_stays[-1] += stay\n",
    "        else:\n",
    "                    combined_wards.append(ward)\n",
    "                    combined_stays.append(stay)\n",
    "        previous_ward = ward\n",
    " \n",
    "    return pd.Series({'combined_wards': tuple(combined_wards), 'total_length_of_stay': sum(combined_stays)})\n",
    " \n",
    "combined_df = df.groupby('patient_id').apply(combine_consecutive_ward_levels).reset_index()\n",
    " \n",
    "# Step 2: Group by the combined ward combinations to get total and average length of stay\n",
    "ward_level_summary = combined_df.groupby('combined_wards').agg(\n",
    "    total_length_of_stay=('total_length_of_stay', 'sum'),\n",
    "    number_of_patients=('patient_id', 'nunique'),\n",
    "    number_of_admissions=('patient_id', 'size')  # count of admissions for each combination\n",
    ").reset_index()\n",
    " \n",
    "# Step 3: Calculate the average length of stay per admission\n",
    "ward_level_summary['average_length_of_stay_per_admission'] = ward_level_summary['total_length_of_stay'] / ward_level_summary['number_of_admissions']\n",
    " \n",
    "# Step 4: Calculate the total number of admissions\n",
    "total_admissions = ward_level_summary['number_of_admissions'].sum()\n",
    " \n",
    "# Step 5: Calculate the percentage of total admissions for each combination\n",
    "ward_level_summary['percentage_of_total_admissions'] = (ward_level_summary['number_of_admissions'] / total_admissions) * 100"
   ]
  },
  {
   "cell_type": "code",
   "execution_count": 43,
   "metadata": {},
   "outputs": [
    {
     "data": {
      "text/html": [
       "<div>\n",
       "<style scoped>\n",
       "    .dataframe tbody tr th:only-of-type {\n",
       "        vertical-align: middle;\n",
       "    }\n",
       "\n",
       "    .dataframe tbody tr th {\n",
       "        vertical-align: top;\n",
       "    }\n",
       "\n",
       "    .dataframe thead th {\n",
       "        text-align: right;\n",
       "    }\n",
       "</style>\n",
       "<table border=\"1\" class=\"dataframe\">\n",
       "  <thead>\n",
       "    <tr style=\"text-align: right;\">\n",
       "      <th></th>\n",
       "      <th>combined_wards</th>\n",
       "      <th>total_length_of_stay</th>\n",
       "      <th>number_of_patients</th>\n",
       "      <th>number_of_admissions</th>\n",
       "      <th>average_length_of_stay_per_admission</th>\n",
       "      <th>percentage_of_total_admissions</th>\n",
       "    </tr>\n",
       "  </thead>\n",
       "  <tbody>\n",
       "    <tr>\n",
       "      <th>4</th>\n",
       "      <td>(Medium,)</td>\n",
       "      <td>374</td>\n",
       "      <td>23</td>\n",
       "      <td>23</td>\n",
       "      <td>16.260870</td>\n",
       "      <td>35.384615</td>\n",
       "    </tr>\n",
       "    <tr>\n",
       "      <th>0</th>\n",
       "      <td>(High,)</td>\n",
       "      <td>200</td>\n",
       "      <td>11</td>\n",
       "      <td>11</td>\n",
       "      <td>18.181818</td>\n",
       "      <td>16.923077</td>\n",
       "    </tr>\n",
       "    <tr>\n",
       "      <th>8</th>\n",
       "      <td>(NICU,)</td>\n",
       "      <td>188</td>\n",
       "      <td>11</td>\n",
       "      <td>11</td>\n",
       "      <td>17.090909</td>\n",
       "      <td>16.923077</td>\n",
       "    </tr>\n",
       "    <tr>\n",
       "      <th>1</th>\n",
       "      <td>(High, Medium)</td>\n",
       "      <td>130</td>\n",
       "      <td>4</td>\n",
       "      <td>4</td>\n",
       "      <td>32.500000</td>\n",
       "      <td>6.153846</td>\n",
       "    </tr>\n",
       "    <tr>\n",
       "      <th>7</th>\n",
       "      <td>(Medium, NICU)</td>\n",
       "      <td>143</td>\n",
       "      <td>4</td>\n",
       "      <td>4</td>\n",
       "      <td>35.750000</td>\n",
       "      <td>6.153846</td>\n",
       "    </tr>\n",
       "    <tr>\n",
       "      <th>3</th>\n",
       "      <td>(High, NICU)</td>\n",
       "      <td>123</td>\n",
       "      <td>3</td>\n",
       "      <td>3</td>\n",
       "      <td>41.000000</td>\n",
       "      <td>4.615385</td>\n",
       "    </tr>\n",
       "    <tr>\n",
       "      <th>5</th>\n",
       "      <td>(Medium, High)</td>\n",
       "      <td>53</td>\n",
       "      <td>2</td>\n",
       "      <td>2</td>\n",
       "      <td>26.500000</td>\n",
       "      <td>3.076923</td>\n",
       "    </tr>\n",
       "    <tr>\n",
       "      <th>10</th>\n",
       "      <td>(NICU, High, NICU)</td>\n",
       "      <td>118</td>\n",
       "      <td>2</td>\n",
       "      <td>2</td>\n",
       "      <td>59.000000</td>\n",
       "      <td>3.076923</td>\n",
       "    </tr>\n",
       "    <tr>\n",
       "      <th>11</th>\n",
       "      <td>(NICU, Medium)</td>\n",
       "      <td>100</td>\n",
       "      <td>2</td>\n",
       "      <td>2</td>\n",
       "      <td>50.000000</td>\n",
       "      <td>3.076923</td>\n",
       "    </tr>\n",
       "    <tr>\n",
       "      <th>2</th>\n",
       "      <td>(High, Medium, NICU)</td>\n",
       "      <td>75</td>\n",
       "      <td>1</td>\n",
       "      <td>1</td>\n",
       "      <td>75.000000</td>\n",
       "      <td>1.538462</td>\n",
       "    </tr>\n",
       "    <tr>\n",
       "      <th>6</th>\n",
       "      <td>(Medium, High, NICU)</td>\n",
       "      <td>50</td>\n",
       "      <td>1</td>\n",
       "      <td>1</td>\n",
       "      <td>50.000000</td>\n",
       "      <td>1.538462</td>\n",
       "    </tr>\n",
       "    <tr>\n",
       "      <th>9</th>\n",
       "      <td>(NICU, High)</td>\n",
       "      <td>24</td>\n",
       "      <td>1</td>\n",
       "      <td>1</td>\n",
       "      <td>24.000000</td>\n",
       "      <td>1.538462</td>\n",
       "    </tr>\n",
       "  </tbody>\n",
       "</table>\n",
       "</div>"
      ],
      "text/plain": [
       "          combined_wards  total_length_of_stay  number_of_patients  \\\n",
       "4              (Medium,)                   374                  23   \n",
       "0                (High,)                   200                  11   \n",
       "8                (NICU,)                   188                  11   \n",
       "1         (High, Medium)                   130                   4   \n",
       "7         (Medium, NICU)                   143                   4   \n",
       "3           (High, NICU)                   123                   3   \n",
       "5         (Medium, High)                    53                   2   \n",
       "10    (NICU, High, NICU)                   118                   2   \n",
       "11        (NICU, Medium)                   100                   2   \n",
       "2   (High, Medium, NICU)                    75                   1   \n",
       "6   (Medium, High, NICU)                    50                   1   \n",
       "9           (NICU, High)                    24                   1   \n",
       "\n",
       "    number_of_admissions  average_length_of_stay_per_admission  \\\n",
       "4                     23                             16.260870   \n",
       "0                     11                             18.181818   \n",
       "8                     11                             17.090909   \n",
       "1                      4                             32.500000   \n",
       "7                      4                             35.750000   \n",
       "3                      3                             41.000000   \n",
       "5                      2                             26.500000   \n",
       "10                     2                             59.000000   \n",
       "11                     2                             50.000000   \n",
       "2                      1                             75.000000   \n",
       "6                      1                             50.000000   \n",
       "9                      1                             24.000000   \n",
       "\n",
       "    percentage_of_total_admissions  \n",
       "4                        35.384615  \n",
       "0                        16.923077  \n",
       "8                        16.923077  \n",
       "1                         6.153846  \n",
       "7                         6.153846  \n",
       "3                         4.615385  \n",
       "5                         3.076923  \n",
       "10                        3.076923  \n",
       "11                        3.076923  \n",
       "2                         1.538462  \n",
       "6                         1.538462  \n",
       "9                         1.538462  "
      ]
     },
     "execution_count": 43,
     "metadata": {},
     "output_type": "execute_result"
    }
   ],
   "source": [
    "#sort by number of patients\n",
    "ward_level_summary.sort_values('number_of_patients',ascending=False)"
   ]
  },
  {
   "cell_type": "code",
   "execution_count": 44,
   "metadata": {},
   "outputs": [
    {
     "data": {
      "text/plain": [
       "combined_wards                          (High, High, Medium, High, Medium, NICU, High,...\n",
       "total_length_of_stay                                                                 1578\n",
       "number_of_patients                                                                     65\n",
       "number_of_admissions                                                                   65\n",
       "average_length_of_stay_per_admission                                           445.283597\n",
       "percentage_of_total_admissions                                                      100.0\n",
       "dtype: object"
      ]
     },
     "execution_count": 44,
     "metadata": {},
     "output_type": "execute_result"
    }
   ],
   "source": [
    "ward_level_summary.sum()"
   ]
  },
  {
   "cell_type": "code",
   "execution_count": 45,
   "metadata": {},
   "outputs": [
    {
     "name": "stderr",
     "output_type": "stream",
     "text": [
      "/var/folders/gv/n0kqs93x29v30b0cfl5tzr140000gn/T/ipykernel_68449/1608946679.py:15: DeprecationWarning: DataFrameGroupBy.apply operated on the grouping columns. This behavior is deprecated, and in a future version of pandas the grouping columns will be excluded from the operation. Either pass `include_groups=False` to exclude the groupings or explicitly select the grouping columns after groupby to silence this warning.\n",
      "  combined_df = df.groupby('patient_id').apply(combine_consecutive_ward_levels).reset_index()\n"
     ]
    },
    {
     "data": {
      "text/html": [
       "<div>\n",
       "<style scoped>\n",
       "    .dataframe tbody tr th:only-of-type {\n",
       "        vertical-align: middle;\n",
       "    }\n",
       "\n",
       "    .dataframe tbody tr th {\n",
       "        vertical-align: top;\n",
       "    }\n",
       "\n",
       "    .dataframe thead th {\n",
       "        text-align: right;\n",
       "    }\n",
       "</style>\n",
       "<table border=\"1\" class=\"dataframe\">\n",
       "  <thead>\n",
       "    <tr style=\"text-align: right;\">\n",
       "      <th></th>\n",
       "      <th>combined_wards</th>\n",
       "      <th>total_length_of_stay</th>\n",
       "      <th>number_of_patients</th>\n",
       "      <th>number_of_admissions</th>\n",
       "      <th>average_length_of_stay_per_admission</th>\n",
       "      <th>percentage_of_total_admissions</th>\n",
       "    </tr>\n",
       "  </thead>\n",
       "  <tbody>\n",
       "  </tbody>\n",
       "</table>\n",
       "</div>"
      ],
      "text/plain": [
       "Empty DataFrame\n",
       "Columns: [combined_wards, total_length_of_stay, number_of_patients, number_of_admissions, average_length_of_stay_per_admission, percentage_of_total_admissions]\n",
       "Index: []"
      ]
     },
     "execution_count": 45,
     "metadata": {},
     "output_type": "execute_result"
    }
   ],
   "source": [
    "def combine_consecutive_ward_levels(group):\n",
    "    combined_wards = []\n",
    "    combined_stays = []\n",
    "    previous_ward = None\n",
    "    for ward, stay in zip(group['ward_level'], group['length_of_stay']):\n",
    "        if ward == previous_ward:\n",
    "                    combined_stays[-1] += stay\n",
    "        else:\n",
    "                    combined_wards.append(ward)\n",
    "                    combined_stays.append(stay)\n",
    "        previous_ward = ward\n",
    " \n",
    "    return pd.Series({'combined_wards': tuple(combined_wards), 'total_length_of_stay': sum(combined_stays)})\n",
    " \n",
    "combined_df = df.groupby('patient_id').apply(combine_consecutive_ward_levels).reset_index()\n",
    "#filter combined_df for only ward_level nicu\n",
    "combined_df = combined_df[combined_df['combined_wards'].apply(lambda x: 'nicu' in x)]\n",
    "# Step 2: Group by the combined ward combinations to get total and average length of stay\n",
    "ward_level_summary = combined_df.groupby('combined_wards').agg(\n",
    "    total_length_of_stay=('total_length_of_stay', 'sum'),\n",
    "    number_of_patients=('patient_id', 'nunique'),\n",
    "    number_of_admissions=('patient_id', 'size')  # count of admissions for each combination\n",
    ").reset_index()\n",
    " \n",
    "# Step 3: Calculate the average length of stay per admission\n",
    "ward_level_summary['average_length_of_stay_per_admission'] = ward_level_summary['total_length_of_stay'] / ward_level_summary['number_of_admissions']\n",
    " \n",
    "# Step 4: Calculate the total number of admissions\n",
    "total_admissions = ward_level_summary['number_of_admissions'].sum()\n",
    " \n",
    "# Step 5: Calculate the percentage of total admissions for each combination\n",
    "ward_level_summary['percentage_of_total_admissions'] = (ward_level_summary['number_of_admissions'] / total_admissions) * 100\n",
    "ward_level_summary"
   ]
  },
  {
   "cell_type": "code",
   "execution_count": 46,
   "metadata": {},
   "outputs": [
    {
     "data": {
      "text/plain": [
       "Series([], Name: count, dtype: int64)"
      ]
     },
     "execution_count": 46,
     "metadata": {},
     "output_type": "execute_result"
    }
   ],
   "source": [
    "#count where combined_wards starts with high\n",
    "ward_level_summary['combined_wards'].apply(lambda x: x[0]).value_counts()"
   ]
  },
  {
   "cell_type": "code",
   "execution_count": 47,
   "metadata": {},
   "outputs": [],
   "source": [
    "unique_combinations = patient_journeys['ward_level'].apply(tuple).value_counts(normalize=True)"
   ]
  },
  {
   "cell_type": "code",
   "execution_count": 48,
   "metadata": {},
   "outputs": [],
   "source": [
    "combinations = unique_combinations.to_frame().reset_index().rename(columns={'index':'ward_level', 'ward_level':'ward_level'})"
   ]
  },
  {
   "cell_type": "code",
   "execution_count": 49,
   "metadata": {},
   "outputs": [
    {
     "data": {
      "text/html": [
       "<div>\n",
       "<style scoped>\n",
       "    .dataframe tbody tr th:only-of-type {\n",
       "        vertical-align: middle;\n",
       "    }\n",
       "\n",
       "    .dataframe tbody tr th {\n",
       "        vertical-align: top;\n",
       "    }\n",
       "\n",
       "    .dataframe thead th {\n",
       "        text-align: right;\n",
       "    }\n",
       "</style>\n",
       "<table border=\"1\" class=\"dataframe\">\n",
       "  <thead>\n",
       "    <tr style=\"text-align: right;\">\n",
       "      <th></th>\n",
       "      <th>ward_level</th>\n",
       "      <th>proportion</th>\n",
       "    </tr>\n",
       "  </thead>\n",
       "  <tbody>\n",
       "    <tr>\n",
       "      <th>0</th>\n",
       "      <td>(Medium,)</td>\n",
       "      <td>0.323077</td>\n",
       "    </tr>\n",
       "    <tr>\n",
       "      <th>1</th>\n",
       "      <td>(NICU,)</td>\n",
       "      <td>0.153846</td>\n",
       "    </tr>\n",
       "    <tr>\n",
       "      <th>2</th>\n",
       "      <td>(High,)</td>\n",
       "      <td>0.153846</td>\n",
       "    </tr>\n",
       "    <tr>\n",
       "      <th>3</th>\n",
       "      <td>(Medium, NICU)</td>\n",
       "      <td>0.046154</td>\n",
       "    </tr>\n",
       "    <tr>\n",
       "      <th>4</th>\n",
       "      <td>(NICU, High, NICU)</td>\n",
       "      <td>0.030769</td>\n",
       "    </tr>\n",
       "    <tr>\n",
       "      <th>5</th>\n",
       "      <td>(High, NICU)</td>\n",
       "      <td>0.030769</td>\n",
       "    </tr>\n",
       "    <tr>\n",
       "      <th>6</th>\n",
       "      <td>(High, Medium, Medium)</td>\n",
       "      <td>0.030769</td>\n",
       "    </tr>\n",
       "    <tr>\n",
       "      <th>7</th>\n",
       "      <td>(High, Medium)</td>\n",
       "      <td>0.030769</td>\n",
       "    </tr>\n",
       "    <tr>\n",
       "      <th>8</th>\n",
       "      <td>(Medium, Medium)</td>\n",
       "      <td>0.030769</td>\n",
       "    </tr>\n",
       "    <tr>\n",
       "      <th>9</th>\n",
       "      <td>(Medium, High)</td>\n",
       "      <td>0.015385</td>\n",
       "    </tr>\n",
       "    <tr>\n",
       "      <th>10</th>\n",
       "      <td>(High, High)</td>\n",
       "      <td>0.015385</td>\n",
       "    </tr>\n",
       "    <tr>\n",
       "      <th>11</th>\n",
       "      <td>(NICU, NICU)</td>\n",
       "      <td>0.015385</td>\n",
       "    </tr>\n",
       "    <tr>\n",
       "      <th>12</th>\n",
       "      <td>(NICU, Medium, Medium)</td>\n",
       "      <td>0.015385</td>\n",
       "    </tr>\n",
       "    <tr>\n",
       "      <th>13</th>\n",
       "      <td>(High, Medium, NICU, NICU)</td>\n",
       "      <td>0.015385</td>\n",
       "    </tr>\n",
       "    <tr>\n",
       "      <th>14</th>\n",
       "      <td>(Medium, High, High)</td>\n",
       "      <td>0.015385</td>\n",
       "    </tr>\n",
       "    <tr>\n",
       "      <th>15</th>\n",
       "      <td>(Medium, High, NICU)</td>\n",
       "      <td>0.015385</td>\n",
       "    </tr>\n",
       "    <tr>\n",
       "      <th>16</th>\n",
       "      <td>(NICU, Medium)</td>\n",
       "      <td>0.015385</td>\n",
       "    </tr>\n",
       "    <tr>\n",
       "      <th>17</th>\n",
       "      <td>(NICU, High)</td>\n",
       "      <td>0.015385</td>\n",
       "    </tr>\n",
       "    <tr>\n",
       "      <th>18</th>\n",
       "      <td>(High, NICU, NICU)</td>\n",
       "      <td>0.015385</td>\n",
       "    </tr>\n",
       "    <tr>\n",
       "      <th>19</th>\n",
       "      <td>(Medium, NICU, NICU)</td>\n",
       "      <td>0.015385</td>\n",
       "    </tr>\n",
       "  </tbody>\n",
       "</table>\n",
       "</div>"
      ],
      "text/plain": [
       "                    ward_level  proportion\n",
       "0                    (Medium,)    0.323077\n",
       "1                      (NICU,)    0.153846\n",
       "2                      (High,)    0.153846\n",
       "3               (Medium, NICU)    0.046154\n",
       "4           (NICU, High, NICU)    0.030769\n",
       "5                 (High, NICU)    0.030769\n",
       "6       (High, Medium, Medium)    0.030769\n",
       "7               (High, Medium)    0.030769\n",
       "8             (Medium, Medium)    0.030769\n",
       "9               (Medium, High)    0.015385\n",
       "10                (High, High)    0.015385\n",
       "11                (NICU, NICU)    0.015385\n",
       "12      (NICU, Medium, Medium)    0.015385\n",
       "13  (High, Medium, NICU, NICU)    0.015385\n",
       "14        (Medium, High, High)    0.015385\n",
       "15        (Medium, High, NICU)    0.015385\n",
       "16              (NICU, Medium)    0.015385\n",
       "17                (NICU, High)    0.015385\n",
       "18          (High, NICU, NICU)    0.015385\n",
       "19        (Medium, NICU, NICU)    0.015385"
      ]
     },
     "execution_count": 49,
     "metadata": {},
     "output_type": "execute_result"
    }
   ],
   "source": [
    "combinations"
   ]
  },
  {
   "cell_type": "code",
   "execution_count": 50,
   "metadata": {},
   "outputs": [],
   "source": [
    "#make if the same ward level is visited multiple times in a row, it is only counted once\n",
    "def remove_consecutive_duplicates(ward_level_list):\n",
    "    return [ward_level_list[i] for i in range(len(ward_level_list)) if i == 0 or ward_level_list[i] != ward_level_list[i-1]]\n",
    "\n",
    "patient_journeys['ward_level'] = patient_journeys['ward_level'].apply(remove_consecutive_duplicates)\n"
   ]
  },
  {
   "cell_type": "code",
   "execution_count": 51,
   "metadata": {},
   "outputs": [
    {
     "data": {
      "text/plain": [
       "0.0"
      ]
     },
     "execution_count": 51,
     "metadata": {},
     "output_type": "execute_result"
    }
   ],
   "source": [
    "#sum all percentages where ward_level starts with nicu\n",
    "combinations[combinations['ward_level'].apply(lambda x: x[0] == 'nicu')]['proportion'].sum()"
   ]
  },
  {
   "cell_type": "code",
   "execution_count": 52,
   "metadata": {},
   "outputs": [
    {
     "data": {
      "text/plain": [
       "0.0"
      ]
     },
     "execution_count": 52,
     "metadata": {},
     "output_type": "execute_result"
    }
   ],
   "source": [
    "combinations[combinations['ward_level'].apply(lambda x: x[0] == 'high')]['proportion'].sum()"
   ]
  },
  {
   "cell_type": "code",
   "execution_count": 53,
   "metadata": {},
   "outputs": [
    {
     "data": {
      "text/plain": [
       "0.0"
      ]
     },
     "execution_count": 53,
     "metadata": {},
     "output_type": "execute_result"
    }
   ],
   "source": [
    "combinations[combinations['ward_level'].apply(lambda x: x[0] == 'medium')]['proportion'].sum()"
   ]
  },
  {
   "cell_type": "code",
   "execution_count": 54,
   "metadata": {},
   "outputs": [
    {
     "data": {
      "text/plain": [
       "Series([], Name: proportion, dtype: float64)"
      ]
     },
     "execution_count": 54,
     "metadata": {},
     "output_type": "execute_result"
    }
   ],
   "source": [
    "#show all combinations starting with medium\n",
    "unique_combinations[unique_combinations.index.map(lambda x: x[0] == 'medium')]"
   ]
  },
  {
   "cell_type": "markdown",
   "metadata": {},
   "source": []
  },
  {
   "cell_type": "code",
   "execution_count": 55,
   "metadata": {},
   "outputs": [
    {
     "data": {
      "text/plain": [
       "0.0"
      ]
     },
     "execution_count": 55,
     "metadata": {},
     "output_type": "execute_result"
    }
   ],
   "source": [
    "#sum all combinations starting with medium\n",
    "unique_combinations[unique_combinations.index.map(lambda x: x[0] == 'medium')].sum()"
   ]
  },
  {
   "cell_type": "code",
   "execution_count": 56,
   "metadata": {},
   "outputs": [
    {
     "data": {
      "text/plain": [
       "Series([], Name: proportion, dtype: float64)"
      ]
     },
     "execution_count": 56,
     "metadata": {},
     "output_type": "execute_result"
    }
   ],
   "source": [
    "#show all combinations starting with high\n",
    "unique_combinations[unique_combinations.index.map(lambda x: x[0] == 'high')]"
   ]
  },
  {
   "cell_type": "code",
   "execution_count": 57,
   "metadata": {},
   "outputs": [
    {
     "data": {
      "text/plain": [
       "0.0"
      ]
     },
     "execution_count": 57,
     "metadata": {},
     "output_type": "execute_result"
    }
   ],
   "source": [
    "unique_combinations[unique_combinations.index.map(lambda x: x[0] == 'high')].sum()"
   ]
  },
  {
   "cell_type": "code",
   "execution_count": 58,
   "metadata": {},
   "outputs": [
    {
     "data": {
      "text/plain": [
       "Series([], Name: proportion, dtype: float64)"
      ]
     },
     "execution_count": 58,
     "metadata": {},
     "output_type": "execute_result"
    }
   ],
   "source": [
    "#show all combinations starting with high\n",
    "unique_combinations[unique_combinations.index.map(lambda x: x[0] == 'nicu')]\n"
   ]
  },
  {
   "cell_type": "code",
   "execution_count": 59,
   "metadata": {},
   "outputs": [
    {
     "data": {
      "text/plain": [
       "Series([], Name: proportion, dtype: float64)"
      ]
     },
     "execution_count": 59,
     "metadata": {},
     "output_type": "execute_result"
    }
   ],
   "source": [
    "unique_combinations[unique_combinations.index.map(lambda x: x[0] == 'unknown')]"
   ]
  },
  {
   "cell_type": "code",
   "execution_count": 60,
   "metadata": {},
   "outputs": [
    {
     "data": {
      "text/plain": [
       "0.0"
      ]
     },
     "execution_count": 60,
     "metadata": {},
     "output_type": "execute_result"
    }
   ],
   "source": [
    "unique_combinations[unique_combinations.index.map(lambda x: x[0] == 'nicu')].sum()"
   ]
  },
  {
   "cell_type": "code",
   "execution_count": 61,
   "metadata": {},
   "outputs": [
    {
     "data": {
      "text/plain": [
       "ward_level\n",
       "NICU      0.454545\n",
       "Medium    0.318182\n",
       "High      0.227273\n",
       "Name: proportion, dtype: float64"
      ]
     },
     "execution_count": 61,
     "metadata": {},
     "output_type": "execute_result"
    }
   ],
   "source": [
    "#filter only first stay\n",
    "df_first = df[df['stay_number'] == 1]\n",
    "df_first['ward_level'].value_counts(normalize=True)"
   ]
  },
  {
   "cell_type": "code",
   "execution_count": 62,
   "metadata": {},
   "outputs": [
    {
     "data": {
      "text/html": [
       "<div>\n",
       "<style scoped>\n",
       "    .dataframe tbody tr th:only-of-type {\n",
       "        vertical-align: middle;\n",
       "    }\n",
       "\n",
       "    .dataframe tbody tr th {\n",
       "        vertical-align: top;\n",
       "    }\n",
       "\n",
       "    .dataframe thead th {\n",
       "        text-align: right;\n",
       "    }\n",
       "</style>\n",
       "<table border=\"1\" class=\"dataframe\">\n",
       "  <thead>\n",
       "    <tr style=\"text-align: right;\">\n",
       "      <th></th>\n",
       "      <th>count</th>\n",
       "      <th>mean</th>\n",
       "      <th>std</th>\n",
       "      <th>min</th>\n",
       "      <th>25%</th>\n",
       "      <th>50%</th>\n",
       "      <th>75%</th>\n",
       "      <th>max</th>\n",
       "    </tr>\n",
       "    <tr>\n",
       "      <th>ward_level</th>\n",
       "      <th></th>\n",
       "      <th></th>\n",
       "      <th></th>\n",
       "      <th></th>\n",
       "      <th></th>\n",
       "      <th></th>\n",
       "      <th></th>\n",
       "      <th></th>\n",
       "    </tr>\n",
       "  </thead>\n",
       "  <tbody>\n",
       "    <tr>\n",
       "      <th>High</th>\n",
       "      <td>5.0</td>\n",
       "      <td>14.800000</td>\n",
       "      <td>9.093954</td>\n",
       "      <td>4.0</td>\n",
       "      <td>11.00</td>\n",
       "      <td>12.0</td>\n",
       "      <td>19.00</td>\n",
       "      <td>28.0</td>\n",
       "    </tr>\n",
       "    <tr>\n",
       "      <th>Medium</th>\n",
       "      <td>7.0</td>\n",
       "      <td>15.428571</td>\n",
       "      <td>10.533394</td>\n",
       "      <td>1.0</td>\n",
       "      <td>8.50</td>\n",
       "      <td>14.0</td>\n",
       "      <td>23.50</td>\n",
       "      <td>29.0</td>\n",
       "    </tr>\n",
       "    <tr>\n",
       "      <th>NICU</th>\n",
       "      <td>10.0</td>\n",
       "      <td>18.300000</td>\n",
       "      <td>6.733828</td>\n",
       "      <td>8.0</td>\n",
       "      <td>15.25</td>\n",
       "      <td>17.5</td>\n",
       "      <td>23.75</td>\n",
       "      <td>28.0</td>\n",
       "    </tr>\n",
       "  </tbody>\n",
       "</table>\n",
       "</div>"
      ],
      "text/plain": [
       "            count       mean        std  min    25%   50%    75%   max\n",
       "ward_level                                                            \n",
       "High          5.0  14.800000   9.093954  4.0  11.00  12.0  19.00  28.0\n",
       "Medium        7.0  15.428571  10.533394  1.0   8.50  14.0  23.50  29.0\n",
       "NICU         10.0  18.300000   6.733828  8.0  15.25  17.5  23.75  28.0"
      ]
     },
     "execution_count": 62,
     "metadata": {},
     "output_type": "execute_result"
    }
   ],
   "source": [
    "df_first.groupby('ward_level')['length_of_stay'].describe()"
   ]
  }
 ],
 "metadata": {
  "kernelspec": {
   "display_name": ".venv",
   "language": "python",
   "name": "python3"
  },
  "language_info": {
   "codemirror_mode": {
    "name": "ipython",
    "version": 3
   },
   "file_extension": ".py",
   "mimetype": "text/x-python",
   "name": "python",
   "nbconvert_exporter": "python",
   "pygments_lexer": "ipython3",
   "version": "3.12.2"
  }
 },
 "nbformat": 4,
 "nbformat_minor": 2
}
