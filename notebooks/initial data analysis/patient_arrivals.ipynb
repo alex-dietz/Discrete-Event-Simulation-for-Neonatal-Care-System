{
 "cells": [
  {
   "cell_type": "markdown",
   "metadata": {},
   "source": [
    "<h1> Patient Arrival Rate </h1>\n",
    "\n",
    "This notebook was used to analysis the patient arrivals in the region and test for seasonality."
   ]
  },
  {
   "cell_type": "code",
   "execution_count": null,
   "metadata": {},
   "outputs": [],
   "source": [
    "import numpy as np\n",
    "import pandas as pd\n",
    "import seaborn as sns\n",
    "from scipy.stats import truncnorm\n",
    "from scipy.stats import kruskal\n",
    "import scipy.stats as stats\n",
    "\n",
    "import matplotlib.pyplot as plt\n",
    "#seaborn settings\n",
    "sns.set_theme(style=\"whitegrid\",palette=\"colorblind\",font_scale=1.5)\n",
    "sns.set_context(\"paper\")\n",
    "sns.despine(left=True,right=True)\n",
    "import warnings\n",
    "warnings.filterwarnings(\"ignore\")"
   ]
  },
  {
   "cell_type": "code",
   "execution_count": null,
   "metadata": {},
   "outputs": [],
   "source": [
    "df = pd.read_csv(\"example_dataset.csv\")"
   ]
  },
  {
   "cell_type": "markdown",
   "metadata": {},
   "source": [
    "<h2>Data preparation </h2>"
   ]
  },
  {
   "cell_type": "code",
   "execution_count": null,
   "metadata": {},
   "outputs": [],
   "source": [
    "df['season'] = pd.to_datetime(df['start_date']).dt.month.apply(lambda x: 'winter' if x in [12,1,2] else 'spring' if x in [3,4,5] else 'summer' if x in [6,7,8] else 'autumn').astype('string')\n",
    "df['month'] = pd.to_datetime(df['start_date']).dt.month\n",
    "df_filtered = df[df['stay_number'] == 1]\n",
    "\n"
   ]
  },
  {
   "cell_type": "code",
   "execution_count": null,
   "metadata": {},
   "outputs": [],
   "source": [
    "#show all ward levels\n",
    "df_filtered['ward_level'].value_counts()"
   ]
  },
  {
   "cell_type": "code",
   "execution_count": null,
   "metadata": {},
   "outputs": [],
   "source": [
    "#unique regions\n",
    "df_filtered['region'].value_counts()    "
   ]
  },
  {
   "cell_type": "markdown",
   "metadata": {},
   "source": [
    "<h2>Patient admissions </h2>"
   ]
  },
  {
   "cell_type": "code",
   "execution_count": null,
   "metadata": {},
   "outputs": [],
   "source": [
    "#df_inside by year\n",
    "df_filtered['year'] = pd.to_datetime(df_filtered['start_date']).dt.year\n",
    "df_filtered['year'].value_counts()"
   ]
  },
  {
   "cell_type": "code",
   "execution_count": null,
   "metadata": {},
   "outputs": [],
   "source": [
    "daily_admissions = pd.to_datetime(df_filtered['start_date']).dt.date.value_counts().sort_index().reset_index()\n",
    "daily_admissions.columns = ['date', 'admissions']"
   ]
  },
  {
   "cell_type": "code",
   "execution_count": null,
   "metadata": {},
   "outputs": [],
   "source": [
    "#min date max date date range\n",
    "min_date = pd.to_datetime(df_filtered['start_date']).min()\n",
    "max_date = pd.to_datetime(df_filtered['start_date']).max()\n",
    "date_range = pd.date_range(start=min_date, end=max_date)\n",
    "\n",
    "#missing dates\n",
    "missing_dates = date_range[~date_range.isin(daily_admissions['date'])]\n",
    "missing_dates"
   ]
  },
  {
   "cell_type": "code",
   "execution_count": null,
   "metadata": {},
   "outputs": [],
   "source": [
    "#plot daily admissions\n",
    "fig, ax = plt.subplots(figsize=(10, 6))\n",
    "sns.lineplot(data=daily_admissions, x='date', y='admissions', ax=ax)\n",
    "plt.title('Number of admissions per day')\n",
    "plt.xlabel('Date')\n",
    "plt.ylabel('Number of admissions')\n",
    "plt.show()"
   ]
  },
  {
   "cell_type": "code",
   "execution_count": null,
   "metadata": {},
   "outputs": [],
   "source": [
    "#plot 3 day moving average\n",
    "\n",
    "daily_admissions['7_day_avg'] = daily_admissions['admissions'].rolling(7).mean()\n",
    "fig, ax = plt.subplots(figsize=(10, 6))\n",
    "sns.lineplot(data=daily_admissions, x='date', y='7_day_avg', ax=ax)\n",
    "plt.title('Weekly moving average of admissions per day')\n",
    "plt.xlabel('Date')\n",
    "\n",
    "\n",
    "plt.ylabel('Number of admissions')\n",
    "plt.show()\n"
   ]
  },
  {
   "cell_type": "code",
   "execution_count": null,
   "metadata": {},
   "outputs": [],
   "source": [
    "#first date\n",
    "df_filtered['start_date'].min()"
   ]
  },
  {
   "cell_type": "code",
   "execution_count": null,
   "metadata": {},
   "outputs": [],
   "source": [
    "#set date to datetime in daily_admissions\n",
    "daily_admissions['date'] = pd.to_datetime(daily_admissions['date'])\n"
   ]
  },
  {
   "cell_type": "code",
   "execution_count": null,
   "metadata": {},
   "outputs": [],
   "source": [
    "daily_admissions_filtered = daily_admissions[pd.to_datetime(daily_admissions['date']) <= pd.to_datetime(max_date)]"
   ]
  },
  {
   "cell_type": "code",
   "execution_count": null,
   "metadata": {},
   "outputs": [],
   "source": [
    "missing_dates = date_range[~date_range.isin(daily_admissions_filtered['date'])]\n",
    "missing_dates\n",
    "#fill missing with 0\n",
    "daily_admissions_filtered = daily_admissions_filtered.set_index('date').reindex(date_range)"
   ]
  },
  {
   "cell_type": "code",
   "execution_count": null,
   "metadata": {},
   "outputs": [],
   "source": [
    "#fill admissions with 0 for missing dates\n",
    "daily_admissions_filtered['admissions'] = daily_admissions_filtered['admissions'].fillna(0)"
   ]
  },
  {
   "cell_type": "code",
   "execution_count": null,
   "metadata": {},
   "outputs": [],
   "source": [
    "daily_admissions_filtered = daily_admissions[pd.to_datetime(daily_admissions['date']) <= pd.to_datetime(max_date)]"
   ]
  },
  {
   "cell_type": "code",
   "execution_count": null,
   "metadata": {},
   "outputs": [],
   "source": [
    "#describe daily admissions\n",
    "print(daily_admissions_filtered['admissions'].describe())"
   ]
  },
  {
   "cell_type": "code",
   "execution_count": null,
   "metadata": {},
   "outputs": [],
   "source": []
  },
  {
   "cell_type": "code",
   "execution_count": null,
   "metadata": {},
   "outputs": [],
   "source": [
    "lower_bound = 9\n",
    "upper_bound = 49\n",
    "\n",
    "mu,std = np.mean(daily_admissions_filtered['admissions']), np.std(daily_admissions_filtered['admissions'])\n",
    "a,b = (lower_bound - mu) / std, (upper_bound - mu) / std\n",
    "fitted_params = truncnorm.fit(daily_admissions_filtered['admissions'], a, b, loc=mu, scale=std)\n",
    "fitted_mu, fitted_std = fitted_params[2], fitted_params[3]\n",
    "print(fitted_mu, fitted_std)\n",
    "x = np.linspace(lower_bound, upper_bound, 100)\n",
    "fitted_pdf = truncnorm.pdf(x, a, b, loc=fitted_mu, scale=fitted_std)\n",
    "sns.histplot(daily_admissions_filtered['admissions'], bins=20, stat='density')\n",
    "plt.plot(x, fitted_pdf, 'r')\n",
    "plt.title('Daily admissions')\n",
    "plt.xlabel('Number of admissions')\n",
    "plt.ylabel('Density')\n",
    "plt.legend(['Truncated normal fit', 'Admissions'])\n",
    "plt.show()"
   ]
  },
  {
   "cell_type": "code",
   "execution_count": null,
   "metadata": {},
   "outputs": [],
   "source": [
    "from scipy.stats import probplot\n",
    "plt.figure(figsize=(10,5),dpi=400)\n",
    "\n",
    "res = probplot(daily_admissions_filtered['admissions'], dist=\"norm\",  plot=plt)\n",
    "plt.title('Q-Q plot normal distribution against observed daily admissions')\n",
    "plt.show()"
   ]
  },
  {
   "cell_type": "code",
   "execution_count": null,
   "metadata": {},
   "outputs": [],
   "source": [
    "\n",
    " \n",
    "# Sample data (replace this with your actual data)\n",
    "data = daily_admissions_filtered['admissions']\n",
    " \n",
    "\n",
    " \n",
    "def normal_cdf(x, mu, sigma):\n",
    "    return stats.norm.cdf(x, mu, sigma)\n",
    "\n"
   ]
  },
  {
   "cell_type": "code",
   "execution_count": null,
   "metadata": {},
   "outputs": [],
   "source": [
    "std = np.std(data)\n"
   ]
  },
  {
   "cell_type": "code",
   "execution_count": null,
   "metadata": {},
   "outputs": [],
   "source": [
    "lambda_,std = fitted_params[2],fitted_params[3]\n",
    "# Perform the one-sample K-S test\n",
    "\n",
    "ks_stat, p_value = stats.kstest(data, normal_cdf, args=(lambda_,std))\n",
    " \n",
    "print(f'K-S Statistic: {ks_stat}')\n",
    "print(f'P-Value: {p_value}')\n",
    " \n",
    "# Interpretation based on the significance level\n",
    "alpha = 0.05\n",
    "if p_value > alpha:\n",
    "    print(\"Fail to reject the null hypothesis. The data fits a Normal distribution.\")\n",
    "else:\n",
    "    print(\"Reject the null hypothesis. The data does not fit a Normal distribution.\")"
   ]
  },
  {
   "cell_type": "code",
   "execution_count": null,
   "metadata": {},
   "outputs": [],
   "source": [
    "#average admission count per season\n",
    "daily_admissions_filtered['season'] = pd.to_datetime(daily_admissions_filtered['date']).dt.month.apply(lambda x: 'winter' if x in [12,1,2] else 'spring' if x in [3,4,5] else 'summer' if x in [6,7,8] else 'autumn').astype('string')\n",
    "daily_admissions_filtered['month'] = pd.to_datetime(daily_admissions_filtered['date']).dt.month\n"
   ]
  },
  {
   "cell_type": "code",
   "execution_count": null,
   "metadata": {},
   "outputs": [],
   "source": [
    "#average admissions per month\n",
    "fig, ax = plt.subplots(figsize=(10, 6),dpi=400)\n",
    "sns.boxenplot(data=daily_admissions_filtered, x='month', y='admissions', ax=ax)\n",
    "plt.title('Average number of daily admissions per month')\n",
    "plt.xlabel('Month')\n",
    "plt.ylabel('Average number of daily  admissions')\n",
    "plt.show()\n"
   ]
  },
  {
   "cell_type": "code",
   "execution_count": null,
   "metadata": {},
   "outputs": [],
   "source": []
  },
  {
   "cell_type": "code",
   "execution_count": null,
   "metadata": {},
   "outputs": [],
   "source": [
    "# Conduct Kruskal-Wallis H test\n",
    "months = daily_admissions_filtered['month'].unique()\n",
    "month_groups = [daily_admissions_filtered[daily_admissions_filtered['month'] == month]['admissions'] for month in months]\n",
    "stat, p = kruskal(*month_groups)\n",
    "print('Kruskal-Wallis H test statistic:', stat)\n",
    "print('p-value:', p)\n",
    " \n",
    "if p < 0.05:\n",
    "    print('The differences between seasons are statistically significant.')\n",
    "else:\n",
    "    print('The differences between seasons are not statistically significant.')"
   ]
  },
  {
   "cell_type": "code",
   "execution_count": null,
   "metadata": {},
   "outputs": [],
   "source": [
    "#average admission count per season\n",
    "fig, ax = plt.subplots(figsize=(10, 6),dpi=400)\n",
    "sns.barplot(data=daily_admissions_filtered, x='season', y='admissions', ax=ax)\n",
    "plt.title('Average number of admissions per season')\n",
    "plt.xlabel('Season')\n",
    "plt.ylabel('Average number of admissions')\n",
    "plt.show()\n"
   ]
  },
  {
   "cell_type": "code",
   "execution_count": null,
   "metadata": {},
   "outputs": [],
   "source": [
    "#average admissions per season in table\n",
    "print(daily_admissions_filtered.groupby('season')['admissions'].describe())"
   ]
  },
  {
   "cell_type": "code",
   "execution_count": null,
   "metadata": {},
   "outputs": [],
   "source": [
    "\n",
    "from scipy.stats import kruskal\n",
    "\n",
    "\n",
    "# Boxplot of admissions by season\n",
    "plt.figure(figsize=(12, 6),dpi=400)\n",
    "sns.boxenplot(x='season', y='admissions', data=daily_admissions_filtered)\n",
    "plt.title('Admissions by Season')\n",
    "plt.xlabel('Season')\n",
    "plt.ylabel('Admissions')\n",
    "plt.grid(True)\n",
    "plt.show()\n",
    " \n",
    "# Conduct Kruskal-Wallis H test\n",
    "seasons = daily_admissions_filtered['season'].unique()\n",
    "season_groups = [daily_admissions_filtered[daily_admissions_filtered['season'] == season]['admissions'] for season in seasons]\n",
    "stat, p = kruskal(*season_groups)\n",
    "print('Kruskal-Wallis H test statistic:', stat)\n",
    "print('p-value:', p)\n",
    " \n",
    "if p < 0.05:\n",
    "    print('The differences between seasons are statistically significant.')\n",
    "else:\n",
    "    print('The differences between seasons are not statistically significant.')"
   ]
  }
 ],
 "metadata": {
  "kernelspec": {
   "display_name": ".venv",
   "language": "python",
   "name": "python3"
  },
  "language_info": {
   "codemirror_mode": {
    "name": "ipython",
    "version": 3
   },
   "file_extension": ".py",
   "mimetype": "text/x-python",
   "name": "python",
   "nbconvert_exporter": "python",
   "pygments_lexer": "ipython3",
   "version": "3.12.4"
  }
 },
 "nbformat": 4,
 "nbformat_minor": 2
}
