{
 "cells": [
  {
   "cell_type": "markdown",
   "metadata": {},
   "source": [
    "<h1> Length of Stay High Care</h1>\n",
    "\n",
    "This notebook was used to analyze the LoS for High Care patients in the dataset and obtain the ridge regression coefficients. If running with the example data, it should run into an error at the correlation matrices.\n"
   ]
  },
  {
   "cell_type": "code",
   "execution_count": null,
   "metadata": {},
   "outputs": [],
   "source": [
    "import numpy as np\n",
    "import pandas as pd\n",
    "import seaborn as sns\n",
    "\n",
    "import matplotlib.pyplot as plt\n",
    "#seaborn settings\n",
    "sns.set_theme(style=\"whitegrid\")\n",
    "sns.set_context(\"paper\")\n",
    "sns.despine(left=True,right=True)\n",
    "#deactivate warnings\n",
    "import warnings\n",
    "warnings.filterwarnings('ignore')\n",
    "#import smf\n",
    "import statsmodels.api as sm\n",
    "import statsmodels.formula.api as smf\n",
    "from sklearn.linear_model import Ridge\n",
    "from sklearn.model_selection import train_test_split\n",
    "from sklearn.metrics import mean_squared_error\n",
    "#import r2_score\n",
    "from sklearn.metrics import r2_score\n"
   ]
  },
  {
   "cell_type": "code",
   "execution_count": null,
   "metadata": {},
   "outputs": [],
   "source": [
    "df = pd.read_csv(\"example_dataset.csv\")"
   ]
  },
  {
   "cell_type": "code",
   "execution_count": null,
   "metadata": {},
   "outputs": [],
   "source": [
    "#show all columns\n",
    "pd.set_option('display.max_columns', None)"
   ]
  },
  {
   "cell_type": "code",
   "execution_count": null,
   "metadata": {},
   "outputs": [],
   "source": [
    "df[(df[\"ward_level\"]==\"High\")&(df[\"gestational_age\"]>260)].sort_values(by=\"length_of_stay\",ascending=False).head(30)\n",
    "#drop top 5\n",
    "df = df.drop(df[(df[\"ward_level\"]==\"High\")&(df[\"gestational_age\"]>260)&(df[\"length_of_stay\"]>30)].sort_values(by=\"length_of_stay\",ascending=False).head(5).index)"
   ]
  },
  {
   "cell_type": "code",
   "execution_count": null,
   "metadata": {},
   "outputs": [],
   "source": [
    "df_ward = df[df[\"ward_level\"]==\"High\"]"
   ]
  },
  {
   "cell_type": "code",
   "execution_count": null,
   "metadata": {},
   "outputs": [],
   "source": [
    "#show 5 highest length of stay\n",
    "df_ward.sort_values(by=\"length_of_stay\",ascending=False).head(10)"
   ]
  },
  {
   "cell_type": "code",
   "execution_count": null,
   "metadata": {},
   "outputs": [],
   "source": [
    "#filter out top 3 n_opnduur\n",
    "#df_ward = df_ward[df_ward[\"n_opnduur\"]<df_ward[\"n_opnduur\"].nlargest(3).min()]"
   ]
  },
  {
   "cell_type": "code",
   "execution_count": null,
   "metadata": {},
   "outputs": [],
   "source": [
    "relevant_criteria = [\n",
    "    'number_of_children',\n",
    " 'gestational_age',\n",
    " 'gestational_age',\n",
    " 'sex',\n",
    " 'birth_weight',\n",
    " 'c_section',\n",
    "\n",
    " 'stay_number',\n",
    "\n",
    "\n",
    " 'length_of_stay',\n",
    " 'thrombocytopenia_treatment',\n",
    " 'antibiotics_treatment',\n",
    " 'hypothermia',\n",
    " \n",
    " 'antenatal_steroids_treatment',\n",
    " 'phototherapy',\n",
    " 'polycythemia_treatment',\n",
    " 'sepsis_treatment',\n",
    " 'anemia_treatment',\n",
    " 'oxygen_days',\n",
    " 'hfo_days',\n",
    " 'cpap_days',\n",
    " 'gestational_age_indicator',\n",
    " 'birth_weight_indicator',\n",
    " 'cardiovascular_indicator',\n",
    " 'jaundice_indicator',\n",
    " 'hypoglycemia_indicator',\n",
    " 'infection_indicator',\n",
    " 'asphyxia_indicator',\n",
    " 'seizure_indicator',\n",
    " 'feeding_indicator',\n",
    " 'congenital_abnormality_indicator',\n",
    " 'withdrawal_indicator',\n",
    " 'maternal_medication_indicator',\n",
    " 'psycho_indicator',\n",
    " 'postIC_indicator',\n",
    " 'others_indicator',\n",
    " \n",
    " \n",
    "\n",
    " \n",
    " 'month',\n",
    " 'ward',\n",
    "    'ward_level',\n",
    "\n",
    "\n",
    "\n",
    "]\n",
    "admission_criteria = ['gestational_age_indicator',\n",
    " 'birth_weight_indicator',\n",
    " 'cardiovascular_indicator',\n",
    " 'jaundice_indicator',\n",
    " 'hypoglycemia_indicator',\n",
    " 'infection_indicator',\n",
    " 'asphyxia_indicator',\n",
    " 'seizure_indicator',\n",
    " 'feeding_indicator',\n",
    " 'congenital_abnormality_indicator',\n",
    " 'withdrawal_indicator',\n",
    " 'maternal_medication_indicator',\n",
    " 'psycho_indicator',\n",
    " 'postIC_indicator',\n",
    " 'others_indicator'\n",
    "]"
   ]
  },
  {
   "cell_type": "code",
   "execution_count": null,
   "metadata": {},
   "outputs": [],
   "source": [
    "df_filtered = df_ward[relevant_criteria]"
   ]
  },
  {
   "cell_type": "code",
   "execution_count": null,
   "metadata": {},
   "outputs": [],
   "source": [
    "\n",
    "    \n",
    "#drop ward\n",
    "df_filtered_corr = df_filtered.drop(columns=[\"ward\",\"ward_level\"])\n",
    "\n",
    "corr_matrix = df_filtered_corr.corr()[['length_of_stay']]\n",
    "print(corr_matrix)\n",
    "plt.figure(figsize=(8,6))\n",
    "sns.heatmap(corr_matrix,annot=True,cmap='coolwarm')\n",
    "plt.title('High')\n",
    "plt.show()"
   ]
  },
  {
   "cell_type": "code",
   "execution_count": null,
   "metadata": {},
   "outputs": [],
   "source": [
    "#describe n_opnduur\n",
    "df_filtered[\"length_of_stay\"].describe()"
   ]
  },
  {
   "cell_type": "code",
   "execution_count": null,
   "metadata": {},
   "outputs": [],
   "source": [
    "plt.figure(figsize=(8, 6), dpi=400)\n",
    " \n",
    "# Plot the scatterplot\n",
    "sns.lineplot(data=df_ward, y='length_of_stay', x='gestational_age')\n",
    " \n",
    "# Set x and y labels\n",
    "plt.xlabel(\"Gestational Age (weeks)\")\n",
    "plt.ylabel(\"Length of Stay (days)\")\n",
    " \n",
    "# Set title\n",
    "plt.title(\"Length of Stay vs Gestational Age for High Care\")\n",
    " \n",
    "\n",
    " \n",
    "# Show plot\n",
    "plt.show()"
   ]
  },
  {
   "cell_type": "code",
   "execution_count": null,
   "metadata": {},
   "outputs": [],
   "source": [
    "df_filtered.info()"
   ]
  },
  {
   "cell_type": "code",
   "execution_count": null,
   "metadata": {},
   "outputs": [],
   "source": [
    "gestational_age_cut = 196\n",
    "second_cut = 259\n",
    "#drop ward\n",
    "\n",
    "for i in range(0,3):\n",
    "    df_filtered_corr = df_filtered.drop(columns=[\"ward\",\"ward_level\",'gestational_age','month','number_of_children','stay_number'])\n",
    "    #filter for gestational age\n",
    "    if i == 0:\n",
    "        df_filtered_corr = df_filtered_corr[df_filtered_corr[\"gestational_age\"]<=gestational_age_cut]\n",
    "    elif i == 1:\n",
    "        df_filtered_corr = df_filtered_corr[(df_filtered[\"gestational_age\"] > gestational_age_cut) & (df_filtered[\"gestational_age\"] <= second_cut)]\n",
    "    else:\n",
    "        df_filtered_corr = df_filtered_corr[df_filtered_corr[\"gestational_age\"]>gestational_age_cut]\n",
    "\n",
    "    print(\"Gestational age cut:\",gestational_age_cut, i)\n",
    "    corr_matrix = df_filtered_corr.corr()[['length_of_stay']]\n",
    "    print(corr_matrix)\n",
    "    plt.figure(figsize=(8,6),dpi=400)\n",
    "    sns.heatmap(corr_matrix,annot=True,cmap='coolwarm')\n",
    "    plt.title('High Care')\n",
    "    plt.show()"
   ]
  },
  {
   "cell_type": "code",
   "execution_count": null,
   "metadata": {},
   "outputs": [],
   "source": [
    "#fill na with o\n",
    "df_filtered = df_filtered.fillna(0)"
   ]
  },
  {
   "cell_type": "code",
   "execution_count": null,
   "metadata": {},
   "outputs": [],
   "source": []
  },
  {
   "cell_type": "markdown",
   "metadata": {},
   "source": [
    "<h3>Ridge regression</h3>"
   ]
  },
  {
   "cell_type": "code",
   "execution_count": null,
   "metadata": {},
   "outputs": [],
   "source": [
    "df_filtered['predicted_los'] = 0"
   ]
  },
  {
   "cell_type": "code",
   "execution_count": null,
   "metadata": {},
   "outputs": [],
   "source": [
    "ward = \"High\"\n",
    "gestational_age_cut = 196\n",
    "second_cut = 259\n",
    "x_criteria_1 =[\"gestational_age\",'phototherapy','anemia_treatment','oxygen_days','cpap_days',\"antibiotics_treatment\",\"others_indicator\"]\n",
    "x_criteria_2 = [\"gestational_age\",'birth_weight','oxygen_days','cpap_days','postIC_indicator','phototherapy','anemia_treatment']\n",
    "\n",
    "x_criteria_3 =[\"gestational_age\",'birth_weight','oxygen_days','cpap_days','postIC_indicator','antibiotics_treatment','sepsis_treatment','phototherapy','anemia_treatment','others_indicator']\n",
    "#set ln of n_opnduur\n",
    "\n",
    "\n",
    "model_1 = Ridge(alpha=1,fit_intercept=True)\n",
    "#filter only amddd > 220\n",
    "df_filtered_1 = df_filtered[df_filtered[\"gestational_age\"] <= gestational_age_cut]\n",
    "X = df_filtered_1[x_criteria_1]\n",
    "\n",
    "y = df_filtered_1['length_of_stay']\n",
    "model_1.fit(X,y)\n",
    "\n",
    "df_filtered.loc[df_filtered['gestational_age'] <= gestational_age_cut, 'predicted_los'] = (model_1.predict(X))\n",
    "#filter larger than gestational_age_cut but smaller tahn 260\n",
    "\n",
    "#how many nan values in predicted_los\n",
    "print(df_filtered['predicted_los'].isna().sum())\n",
    "\n",
    "#intercept\n",
    "mask = df_filtered['predicted_los'] < df_filtered[['oxygen_days', 'hfo_days', 'cpap_days']].max(axis=1)\n",
    "\n",
    "# Use the mask to select rows and assign the maximum value to 'n_opnduur'\n",
    "df_filtered.loc[mask, 'predicted_los'] = df_filtered.loc[mask, ['oxygen_days', 'hfo_days', 'cpap_days']].max(axis=1)\n",
    "#df_filtered['predicted_los'] = df_filtered['predicted_los'].astype(int)\n",
    "df_filtered.loc[df_filtered['predicted_los'] < 1, 'predicted_los'] = 1\n",
    "#coefficents with names and p values\n",
    "coefficients = pd.DataFrame(model_1.coef_,index=x_criteria_1,columns=['coefficients'])\n",
    "print(coefficients)\n",
    "print(r2_score(y,df_filtered.loc[df_filtered['gestational_age'] <= gestational_age_cut, 'predicted_los']))\n",
    "\n",
    "#print constant\n",
    "print(model_1.intercept_)\n",
    "df_filtered_2 = df_filtered[(df_filtered[\"gestational_age\"] > gestational_age_cut) & (df_filtered[\"gestational_age\"] <= second_cut)]\n",
    "X = df_filtered_2[x_criteria_2]\n",
    "\n",
    "y = df_filtered_2['length_of_stay']\n",
    "model_2 = Ridge(alpha=1,fit_intercept=True)\n",
    "model_2.fit(X,y)\n",
    "df_filtered.loc[(df_filtered[\"gestational_age\"] > gestational_age_cut) & (df_filtered[\"gestational_age\"] <= second_cut), 'predicted_los'] = (model_2.predict(X))\n",
    "mask = df_filtered['predicted_los'] < df_filtered[['oxygen_days', 'hfo_days', 'cpap_days']].max(axis=1)\n",
    "\n",
    "# Use the mask to select rows and assign the maximum value to 'n_opnduur'\n",
    "df_filtered.loc[mask, 'predicted_los'] = df_filtered.loc[mask, ['oxygen_days', 'hfo_days', 'cpap_days']].max(axis=1)\n",
    "#df_filtered['predicted_los'] = df_filtered['predicted_los'].astype(int)\n",
    "df_filtered.loc[df_filtered['predicted_los'] < 1, 'predicted_los'] = 1\n",
    "coefficients = pd.DataFrame(model_2.coef_,index=x_criteria_2,columns=['coefficients'])\n",
    "print(coefficients)\n",
    "print(r2_score(y,df_filtered.loc[(df_filtered[\"gestational_age\"] > gestational_age_cut) & (df_filtered[\"gestational_age\"] <= second_cut), 'predicted_los']))\n",
    "\n",
    "#print constant\n",
    "print(model_2.intercept_)\n",
    "\n",
    "model_3 = Ridge(alpha=1,fit_intercept=True)\n",
    "#filter only amddd > 220\n",
    "df_filtered_3 = df_filtered[(df_filtered[\"gestational_age\"] > second_cut) ]\n",
    "X = df_filtered_3[x_criteria_3]\n",
    "\n",
    "y = df_filtered_3['length_of_stay']\n",
    "model_3.fit(X,y)\n",
    "\n",
    "df_filtered.loc[ (df_filtered[\"gestational_age\"] > second_cut), 'predicted_los'] = (model_3.predict(X))\n",
    "#filter larger than gestational_age_cut but smaller tahn 260\n",
    "\n",
    "\n",
    "#intercept\n",
    "mask = df_filtered['predicted_los'] < df_filtered[['oxygen_days', 'hfo_days', 'cpap_days']].max(axis=1)\n",
    "\n",
    "# Use the mask to select rows and assign the maximum value to 'n_opnduur'\n",
    "df_filtered.loc[mask, 'predicted_los'] = df_filtered.loc[mask, ['oxygen_days', 'hfo_days', 'cpap_days']].max(axis=1)\n",
    "#df_filtered['predicted_los'] = df_filtered['predicted_los'].astype(int)\n",
    "df_filtered.loc[df_filtered['predicted_los'] < 1, 'predicted_los'] = 1\n",
    "#coefficents with names and p values\n",
    "coefficients = pd.DataFrame(model_3.coef_,index=x_criteria_3,columns=['coefficients'])\n",
    "print(coefficients)\n",
    "print(r2_score(y,df_filtered.loc[ (df_filtered[\"gestational_age\"] > second_cut), 'predicted_los']))\n",
    "\n",
    "#print constant\n",
    "print(model_3.intercept_)\n",
    "plt.figure(figsize=(8,6),dpi=400)\n",
    "plt.title('Actual vs Predicted LoS for High Care')\n",
    "sns.lineplot(data=df_filtered,x='gestational_age',y='predicted_los',label='predicted_los')\n",
    "sns.lineplot(data=df_filtered,x='gestational_age',y='length_of_stay',label='actual_los')\n",
    "plt.ylabel(\"LoS (days)\")\n",
    "plt.xlabel(\"gestational age (weeks)\")\n",
    "plt.legend()\n",
    "plt.show()\n"
   ]
  },
  {
   "cell_type": "code",
   "execution_count": null,
   "metadata": {},
   "outputs": [],
   "source": [
    "df_filtered[\"length_of_stay\"].describe()"
   ]
  },
  {
   "cell_type": "code",
   "execution_count": null,
   "metadata": {},
   "outputs": [],
   "source": [
    "df_filtered[\"predicted_los\"].describe()"
   ]
  },
  {
   "cell_type": "code",
   "execution_count": null,
   "metadata": {},
   "outputs": [],
   "source": [
    "df_filtered[df_filtered[\"gestational_age\"]<=gestational_age_cut][\"predicted_los\"].describe()"
   ]
  },
  {
   "cell_type": "code",
   "execution_count": null,
   "metadata": {},
   "outputs": [],
   "source": [
    "df_filtered[df_filtered[\"gestational_age\"]<=gestational_age_cut][\"length_of_stay\"].describe()"
   ]
  },
  {
   "cell_type": "code",
   "execution_count": null,
   "metadata": {},
   "outputs": [],
   "source": [
    "df_filtered[(df_filtered[\"gestational_age\"] > gestational_age_cut) & (df_filtered[\"gestational_age\"] <= second_cut)][\"predicted_los\"].describe()"
   ]
  },
  {
   "cell_type": "code",
   "execution_count": null,
   "metadata": {},
   "outputs": [],
   "source": [
    "df_filtered[(df_filtered[\"gestational_age\"] > gestational_age_cut) & (df_filtered[\"gestational_age\"] <= second_cut)][\"length_of_stay\"].describe()"
   ]
  },
  {
   "cell_type": "code",
   "execution_count": null,
   "metadata": {},
   "outputs": [],
   "source": [
    "df_filtered[(df_filtered[\"gestational_age\"] > second_cut) ][\"predicted_los\"].describe()"
   ]
  },
  {
   "cell_type": "code",
   "execution_count": null,
   "metadata": {},
   "outputs": [],
   "source": [
    "df_filtered[(df_filtered[\"gestational_age\"] > second_cut)][\"length_of_stay\"].describe()"
   ]
  }
 ],
 "metadata": {
  "kernelspec": {
   "display_name": ".venv",
   "language": "python",
   "name": "python3"
  },
  "language_info": {
   "codemirror_mode": {
    "name": "ipython",
    "version": 3
   },
   "file_extension": ".py",
   "mimetype": "text/x-python",
   "name": "python",
   "nbconvert_exporter": "python",
   "pygments_lexer": "ipython3",
   "version": "3.12.4"
  }
 },
 "nbformat": 4,
 "nbformat_minor": 2
}
