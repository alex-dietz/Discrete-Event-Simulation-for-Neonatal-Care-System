{
 "cells": [
  {
   "cell_type": "markdown",
   "metadata": {},
   "source": [
    "<h1>Validation </h1>\n",
    "\n",
    "This notebook was used to validate the model. It can only run if provided with a model output file. For instance, the file currently in the file would represent the output of the 2016 scenario with 25 runs."
   ]
  },
  {
   "cell_type": "code",
   "execution_count": null,
   "metadata": {},
   "outputs": [],
   "source": [
    "import pandas as pd\n",
    "import numpy as np\n",
    "import matplotlib.pyplot as plt\n",
    "import seaborn as sns\n",
    "from sklearn.metrics import r2_score\n",
    "import scipy.stats as stats\n",
    "sns.set(style=\"whitegrid\",palette=\"colorblind\",font_scale=1.5)\n",
    "sns.set_context(\"paper\")"
   ]
  },
  {
   "cell_type": "code",
   "execution_count": null,
   "metadata": {},
   "outputs": [],
   "source": [
    "simulation_df = pd.read_csv(\"../../model/outputs/admission_log_hospitalScenario_-1_runs_25.csv\")\n",
    "#set gestational age weeks\n",
    "simulation_df[\"gestational_age\"] = simulation_df[\"gestational_age\"]/7"
   ]
  },
  {
   "cell_type": "code",
   "execution_count": null,
   "metadata": {},
   "outputs": [],
   "source": [
    "df  = pd.read_csv(\"example_dataset.csv\")"
   ]
  },
  {
   "cell_type": "code",
   "execution_count": null,
   "metadata": {},
   "outputs": [],
   "source": [
    "#filter start_date before 15-10-2017\n",
    "df[\"start_date\"] = pd.to_datetime(df[\"start_date\"])\n"
   ]
  },
  {
   "cell_type": "code",
   "execution_count": null,
   "metadata": {},
   "outputs": [],
   "source": [
    "df.head()"
   ]
  },
  {
   "cell_type": "code",
   "execution_count": null,
   "metadata": {},
   "outputs": [],
   "source": [
    "#set ward for simulation df to lowercase\n",
    "simulation_df[\"ward\"] = simulation_df[\"ward\"].str.lower()"
   ]
  },
  {
   "cell_type": "code",
   "execution_count": null,
   "metadata": {},
   "outputs": [],
   "source": [
    "wards = simulation_df[\"ward\"].unique()\n"
   ]
  },
  {
   "cell_type": "code",
   "execution_count": null,
   "metadata": {},
   "outputs": [],
   "source": [
    "for ward in wards:\n",
    "    plt.figure(figsize=(8,6),dpi=500)\n",
    "    #plot scatterplot\n",
    "    df_filtered = df[df[\"ward_level\"]==ward]\n",
    "    df_simulation_filtered = simulation_df[simulation_df[\"ward\"]==ward]\n",
    "    print(df_filtered[\"length_of_stay\"].describe())\n",
    "    print(df_simulation_filtered[\"length_of_stay\"].describe())\n",
    "    sns.lineplot(data=df_filtered,y='length_of_stay',x='gestational_age',label=\"Actual\")\n",
    "    sns.lineplot(data=df_simulation_filtered,y='length_of_stay',x='gestational_age',label=\"Simulated\")\n",
    "    #y label Length of stay in days\n",
    "    plt.ylabel(\"Length of stay (Days)\")\n",
    "    #x label gestational age in weeks\n",
    "    plt.xlabel(\"Gestational age (weeks)\")\n",
    "    #legend\n",
    "    plt.legend()\n",
    "    #save plot\n",
    "    #plt.savefig(f\"length_of_stay_{ward}.png\")\n",
    "    plt.show()"
   ]
  },
  {
   "cell_type": "code",
   "execution_count": null,
   "metadata": {},
   "outputs": [],
   "source": [
    "df"
   ]
  },
  {
   "cell_type": "code",
   "execution_count": null,
   "metadata": {},
   "outputs": [],
   "source": [
    "for ward in wards:\n",
    "    df_filtered = df[df[\"ward_level\"]==ward]\n",
    "    df_simulation_filtered = simulation_df[simulation_df[\"ward\"]==ward]\n",
    "    length_of_stay_filtered = df_filtered['length_of_stay'].dropna()\n",
    "    length_of_stay_simulation = df_simulation_filtered['length_of_stay'].dropna()\n",
    "    # Determine the number of samples to select for the comparison\n",
    "    sample_size = min(len(length_of_stay_filtered), len(length_of_stay_simulation))\n",
    "    \n",
    "    # Randomly select entries from each dataset\n",
    "    length_of_stay_filtered_sample = length_of_stay_filtered.sample(n=sample_size, random_state=1).reset_index(drop=True)\n",
    "    length_of_stay_simulation_sample = length_of_stay_simulation.sample(n=sample_size, random_state=1).reset_index(drop=True)\n",
    "    #sort the data\n",
    "    length_of_stay_filtered_sample = length_of_stay_filtered_sample.sort_values()\n",
    "    length_of_stay_simulation_sample = length_of_stay_simulation_sample.sort_values()\n",
    "    \n",
    "    # QQ plot\n",
    "    df_combined = pd.DataFrame({'Observed': length_of_stay_filtered_sample, 'Simulated': length_of_stay_simulation_sample})\n",
    "    plt.figure(figsize=(8, 6))\n",
    "    sns.scatterplot(x='Simulated', y='Observed', data=df_combined)\n",
    "    sns.lineplot(x='Observed', y='Observed', data=df_combined, color='red',linestyle='--')\n",
    "    plt.show()\n",
    "    print(ward)\n",
    "    # Calculate R^2 score\n",
    "    r2 = r2_score(length_of_stay_filtered_sample, length_of_stay_simulation_sample)\n",
    "    print(f'R^2 score: {r2}')"
   ]
  },
  {
   "cell_type": "code",
   "execution_count": null,
   "metadata": {},
   "outputs": [],
   "source": [
    "df_combined.describe()"
   ]
  },
  {
   "cell_type": "code",
   "execution_count": null,
   "metadata": {},
   "outputs": [],
   "source": []
  }
 ],
 "metadata": {
  "kernelspec": {
   "display_name": ".venv",
   "language": "python",
   "name": "python3"
  },
  "language_info": {
   "codemirror_mode": {
    "name": "ipython",
    "version": 3
   },
   "file_extension": ".py",
   "mimetype": "text/x-python",
   "name": "python",
   "nbconvert_exporter": "python",
   "pygments_lexer": "ipython3",
   "version": "3.12.2"
  }
 },
 "nbformat": 4,
 "nbformat_minor": 2
}
