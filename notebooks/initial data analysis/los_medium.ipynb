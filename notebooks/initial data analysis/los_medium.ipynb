{
 "cells": [
  {
   "cell_type": "markdown",
   "metadata": {},
   "source": [
    "<h1> Length of Stay Medium Care </h1>\n",
    "\n",
    "This notebook was used to analyze the LoS for Medium Care patients in the dataset and obtain the ridge regression coefficients. If running with the example data, it should run into an error at the correlation matrices."
   ]
  },
  {
   "cell_type": "code",
   "execution_count": null,
   "metadata": {},
   "outputs": [],
   "source": [
    "import numpy as np\n",
    "import pandas as pd\n",
    "import seaborn as sns\n",
    "\n",
    "import matplotlib.pyplot as plt\n",
    "#seaborn settings\n",
    "sns.set_theme(style=\"whitegrid\")\n",
    "sns.set_context(\"paper\")\n",
    "sns.despine(left=True,right=True)\n",
    "#deactivate warnings\n",
    "import warnings\n",
    "warnings.filterwarnings('ignore')\n",
    "#import smf\n",
    "import statsmodels.api as sm\n",
    "import statsmodels.formula.api as smf\n",
    "from sklearn.linear_model import Ridge\n",
    "from sklearn.model_selection import train_test_split\n",
    "from sklearn.metrics import mean_squared_error\n",
    "#import r2_score\n",
    "from sklearn.metrics import r2_score\n"
   ]
  },
  {
   "cell_type": "code",
   "execution_count": null,
   "metadata": {},
   "outputs": [],
   "source": [
    "df = pd.read_csv(\"example_dataset.csv\")"
   ]
  },
  {
   "cell_type": "code",
   "execution_count": null,
   "metadata": {},
   "outputs": [],
   "source": [
    "df[df[\"ward_level\"]==\"Medium\"].sort_values(by=\"length_of_stay\",ascending=False).head(30)"
   ]
  },
  {
   "cell_type": "code",
   "execution_count": null,
   "metadata": {},
   "outputs": [],
   "source": [
    "df_ward = df[df[\"ward_level\"]==\"Medium\"]"
   ]
  },
  {
   "cell_type": "code",
   "execution_count": null,
   "metadata": {},
   "outputs": [],
   "source": [
    "relevant_criteria = [\n",
    "    'number_of_children',\n",
    " 'gestational_age',\n",
    " 'gestational_age',\n",
    " 'sex',\n",
    " 'birth_weight',\n",
    " 'c_section',\n",
    "\n",
    " 'stay_number',\n",
    "\n",
    "\n",
    " 'length_of_stay',\n",
    " 'thrombocytopenia_treatment',\n",
    " 'antibiotics_treatment',\n",
    " 'hypothermia',\n",
    " \n",
    " 'antenatal_steroids_treatment',\n",
    " 'phototherapy',\n",
    " 'polycythemia_treatment',\n",
    " 'sepsis_treatment',\n",
    " 'anemia_treatment',\n",
    " 'oxygen_days',\n",
    " 'hfo_days',\n",
    " 'cpap_days',\n",
    " 'gestational_age_indicator',\n",
    " 'birth_weight_indicator',\n",
    " 'cardiovascular_indicator',\n",
    " 'jaundice_indicator',\n",
    " 'hypoglycemia_indicator',\n",
    " 'infection_indicator',\n",
    " 'asphyxia_indicator',\n",
    " 'seizure_indicator',\n",
    " 'feeding_indicator',\n",
    " 'congenital_abnormality_indicator',\n",
    " 'withdrawal_indicator',\n",
    " 'maternal_medication_indicator',\n",
    " 'psycho_indicator',\n",
    " 'postIC_indicator',\n",
    " 'others_indicator',\n",
    " \n",
    " \n",
    "\n",
    " \n",
    " 'month',\n",
    " 'ward',\n",
    "    'ward_level',\n",
    "\n",
    "\n",
    "\n",
    "]\n",
    "admission_criteria = ['gestational_age_indicator',\n",
    " 'birth_weight_indicator',\n",
    " 'cardiovascular_indicator',\n",
    " 'jaundice_indicator',\n",
    " 'hypoglycemia_indicator',\n",
    " 'infection_indicator',\n",
    " 'asphyxia_indicator',\n",
    " 'seizure_indicator',\n",
    " 'feeding_indicator',\n",
    " 'congenital_abnormality_indicator',\n",
    " 'withdrawal_indicator',\n",
    " 'maternal_medication_indicator',\n",
    " 'psycho_indicator',\n",
    " 'postIC_indicator',\n",
    " 'others_indicator'\n",
    "]"
   ]
  },
  {
   "cell_type": "code",
   "execution_count": null,
   "metadata": {},
   "outputs": [],
   "source": [
    "df_filtered = df_ward[relevant_criteria]"
   ]
  },
  {
   "cell_type": "code",
   "execution_count": null,
   "metadata": {},
   "outputs": [],
   "source": [
    "\n",
    "    \n",
    "#drop ward\n",
    "df_filtered_corr = df_filtered.drop(columns=[\"ward\",\"ward_level\"])\n",
    "\n",
    "corr_matrix = df_filtered_corr.corr()[['length_of_stay']]\n",
    "print(corr_matrix)\n",
    "plt.figure(figsize=(8,6))\n",
    "sns.heatmap(corr_matrix,annot=True,cmap='coolwarm')\n",
    "plt.title('Medium')\n",
    "plt.show()"
   ]
  },
  {
   "cell_type": "code",
   "execution_count": null,
   "metadata": {},
   "outputs": [],
   "source": [
    "#describe n_opnduur\n",
    "df_filtered[\"length_of_stay\"].describe()"
   ]
  },
  {
   "cell_type": "code",
   "execution_count": null,
   "metadata": {},
   "outputs": [],
   "source": [
    "plt.figure(figsize=(8, 6), dpi=400)\n",
    " \n",
    "# Plot the scatterplot\n",
    "sns.lineplot(data=df_ward, y='length_of_stay', x='gestational_age')\n",
    " \n",
    "# Set x and y labels\n",
    "plt.xlabel(\"Gestational Age (weeks)\")\n",
    "plt.ylabel(\"Length of Stay (days)\")\n",
    " \n",
    "# Set title\n",
    "plt.title(\"Length of Stay vs Gestational Age for Medium Care\")\n",
    " \n",
    "\n",
    " \n",
    "# Show plot\n",
    "plt.show()"
   ]
  },
  {
   "cell_type": "code",
   "execution_count": null,
   "metadata": {},
   "outputs": [],
   "source": [
    "gestational_age_cut = 224\n",
    "second_gestational_age_cut = 259\n",
    "#drop ward\n",
    "\n",
    "for i in range(0,3):\n",
    "    df_filtered_corr = df_filtered.drop(columns=[\"ward\",\"ward_level\",'month','gestational_age','number_of_children'])\n",
    "    #filter for gestational age\n",
    "    if i == 0:\n",
    "        df_filtered_corr = df_filtered_corr[df_filtered_corr[\"gestational_age\"]<=gestational_age_cut]\n",
    "    elif i == 1:\n",
    "        df_filtered_corr = df_filtered_corr[(df_filtered_corr[\"gestational_age\"]>gestational_age_cut) & (df_filtered_corr[\"gestational_age\"]<=second_gestational_age_cut)]\n",
    "    else:\n",
    "        df_filtered_corr = df_filtered_corr[df_filtered_corr[\"gestational_age\"]>second_gestational_age_cut]\n",
    "    print(\"Gestational age cut:\",gestational_age_cut, i)\n",
    "    corr_matrix = df_filtered_corr.corr()[['length_of_stay']]\n",
    "    print(corr_matrix)\n",
    "    plt.figure(figsize=(8,6),dpi=400)\n",
    "    sns.heatmap(corr_matrix,annot=True,cmap='coolwarm')\n",
    "    plt.title('Medium Care')\n",
    "    plt.show()\n",
    "    \n"
   ]
  },
  {
   "cell_type": "markdown",
   "metadata": {},
   "source": [
    "<h3>Ridge Regression </h3>"
   ]
  },
  {
   "cell_type": "code",
   "execution_count": null,
   "metadata": {},
   "outputs": [],
   "source": [
    "df_filtered.info()"
   ]
  },
  {
   "cell_type": "code",
   "execution_count": null,
   "metadata": {},
   "outputs": [],
   "source": [
    "ward = \"High\"\n",
    "gestational_age_cut = 217\n",
    "second_gestational_age_cut = 266\n",
    "x_criteria_1 =[\"gestational_age\",'phototherapy','oxygen_days','cpap_days',\"others_indicator\",\"postIC_indicator\",'stay_number']\n",
    "x_criteria_2 = [\"gestational_age\",'phototherapy','birth_weight','oxygen_days','c_section']\n",
    "\n",
    "x_criteria_3 =['oxygen_days','cpap_days','c_section','phototherapy','sepsis_treatment','antibiotics_treatment']\n",
    "#set ln of n_opnduur\n",
    "\n",
    "\n",
    "model_1 = Ridge(alpha=1,fit_intercept=True)\n",
    "#filter only amddd > 220\n",
    "df_filtered_1 = df_filtered[df_filtered[\"gestational_age\"] <= gestational_age_cut]\n",
    "X = df_filtered_1[x_criteria_1]\n",
    "\n",
    "y = df_filtered_1['length_of_stay']\n",
    "model_1.fit(X,y)\n",
    "\n",
    "df_filtered.loc[df_filtered['gestational_age'] <= gestational_age_cut, 'predicted_los'] = (model_1.predict(X))\n",
    "#filter larger than gestational_age_cut but smaller tahn 260\n",
    "mask = df_filtered['predicted_los'] < df_filtered[['oxygen_days', 'hfo_days', 'cpap_days']].max(axis=1)\n",
    "\n",
    "# Use the mask to select rows and assign the maximum value to 'n_opnduur'\n",
    "df_filtered.loc[mask, 'predicted_los'] = df_filtered.loc[mask, ['oxygen_days', 'hfo_days', 'cpap_days']].max(axis=1)\n",
    "#df_filtered['predicted_los'] = df_filtered['predicted_los'].astype(int)\n",
    "df_filtered.loc[df_filtered['predicted_los'] < 1, 'predicted_los'] = 1\n",
    "\n",
    "#intercept\n",
    "\n",
    "#coefficents with names and p values\n",
    "coefficients = pd.DataFrame(model_1.coef_,index=x_criteria_1,columns=['coefficients'])\n",
    "print(coefficients)\n",
    "print(r2_score(y,model_1.predict(X)))\n",
    "mask = df_filtered['predicted_los'] < df_filtered[['oxygen_days', 'hfo_days', 'cpap_days']].max(axis=1)\n",
    "\n",
    "# Use the mask to select rows and assign the maximum value to 'n_opnduur'\n",
    "df_filtered.loc[mask, 'predicted_los'] = df_filtered.loc[mask, ['oxygen_days', 'hfo_days', 'cpap_days']].max(axis=1)\n",
    "#df_filtered['predicted_los'] = df_filtered['predicted_los'].astype(int)\n",
    "df_filtered.loc[df_filtered['predicted_los'] < 1, 'predicted_los'] = 1\n",
    "#print constant\n",
    "print(model_1.intercept_)\n",
    "df_filtered_2 = df_filtered[(df_filtered[\"gestational_age\"] > gestational_age_cut) & (df_filtered[\"gestational_age\"] <= second_gestational_age_cut)]\n",
    "X = df_filtered_2[x_criteria_2]\n",
    "\n",
    "y = df_filtered_2['length_of_stay']\n",
    "model_2 = Ridge(alpha=1,fit_intercept=True)\n",
    "model_2.fit(X,y)\n",
    "df_filtered.loc[(df_filtered[\"gestational_age\"] > gestational_age_cut) & (df_filtered[\"gestational_age\"] <= second_gestational_age_cut), 'predicted_los'] = (model_2.predict(X))\n",
    "\n",
    "coefficients = pd.DataFrame(model_2.coef_,index=x_criteria_2,columns=['coefficients'])\n",
    "print(coefficients)\n",
    "print(r2_score(y,model_2.predict(X)))\n",
    "\n",
    "#print constant\n",
    "print(model_2.intercept_)\n",
    "\n",
    "model_3 = Ridge(alpha=1,fit_intercept=True)\n",
    "#filter only amddd > 220\n",
    "df_filtered_3 = df_filtered[(df_filtered[\"gestational_age\"] > second_gestational_age_cut) ]\n",
    "X = df_filtered_3[x_criteria_3]\n",
    "\n",
    "y = df_filtered_3['length_of_stay']\n",
    "model_3.fit(X,y)\n",
    "\n",
    "df_filtered.loc[ (df_filtered[\"gestational_age\"] > second_gestational_age_cut), 'predicted_los'] = (model_3.predict(X))\n",
    "#filter larger than gestational_age_cut but smaller tahn 260\n",
    "mask = df_filtered['predicted_los'] < df_filtered[['oxygen_days', 'hfo_days', 'cpap_days']].max(axis=1)\n",
    "\n",
    "# Use the mask to select rows and assign the maximum value to 'n_opnduur'\n",
    "df_filtered.loc[mask, 'predicted_los'] = df_filtered.loc[mask, ['oxygen_days', 'hfo_days', 'cpap_days']].max(axis=1)\n",
    "#df_filtered['predicted_los'] = df_filtered['predicted_los'].astype(int)\n",
    "df_filtered.loc[df_filtered['predicted_los'] < 1, 'predicted_los'] = 1\n",
    "\n",
    "#intercept\n",
    "\n",
    "#coefficents with names and p values\n",
    "coefficients = pd.DataFrame(model_3.coef_,index=x_criteria_3,columns=['coefficients'])\n",
    "print(coefficients)\n",
    "print(r2_score(y,model_3.predict(X)))\n",
    "\n",
    "#print constant\n",
    "print(model_3.intercept_)\n",
    "plt.figure(figsize=(8,6),dpi=400)\n",
    "plt.title('Actual vs Predicted LoS for Medium Care')\n",
    "plt.ylabel(\"LoS (days)\")\n",
    "plt.xlabel(\"gestational age (weeks)\")\n",
    "sns.lineplot(data=df_filtered,x='gestational_age',y='predicted_los',label='predicted_los')\n",
    "sns.lineplot(data=df_filtered,x='gestational_age',y='length_of_stay',label='actual_los')\n",
    "plt.legend()\n",
    "plt.show()\n"
   ]
  },
  {
   "cell_type": "code",
   "execution_count": null,
   "metadata": {},
   "outputs": [],
   "source": [
    "\n",
    "\n",
    "print(df_filtered[df_filtered[\"gestational_age\"]<=gestational_age_cut][\"predicted_los\"].describe())\n",
    "print(df_filtered[df_filtered[\"gestational_age\"]<=gestational_age_cut][\"length_of_stay\"].describe())\n",
    "#empty line\n",
    "print()\n",
    "print(df_filtered[(df_filtered[\"gestational_age\"]>gestational_age_cut) & (df_filtered[\"gestational_age\"]<=second_gestational_age_cut)][\"predicted_los\"].describe())\n",
    "print(df_filtered[(df_filtered[\"gestational_age\"]>gestational_age_cut) & (df_filtered[\"gestational_age\"]<=second_gestational_age_cut)][\"length_of_stay\"].describe())\n",
    "print()\n",
    "print(df_filtered[df_filtered[\"gestational_age\"]>second_gestational_age_cut][\"predicted_los\"].describe())\n",
    "print(df_filtered[df_filtered[\"gestational_age\"]>second_gestational_age_cut][\"length_of_stay\"].describe())"
   ]
  },
  {
   "cell_type": "code",
   "execution_count": null,
   "metadata": {},
   "outputs": [],
   "source": [
    "print(df_filtered[\"predicted_los\"].describe())\n",
    "print(df_filtered[\"length_of_stay\"].describe())"
   ]
  },
  {
   "cell_type": "markdown",
   "metadata": {},
   "source": [
    "<h3>Lasso Regression </h3>"
   ]
  },
  {
   "cell_type": "code",
   "execution_count": null,
   "metadata": {},
   "outputs": [],
   "source": [
    "from sklearn.linear_model import Lasso,LassoCV\n",
    "#import r2_score\n",
    "from sklearn.metrics import r2_score,mean_squared_error"
   ]
  },
  {
   "cell_type": "code",
   "execution_count": null,
   "metadata": {},
   "outputs": [],
   "source": [
    "#set ln of o2\n",
    "df_filtered[\"ln_n_o2dg\"] = np.log1p(df_filtered[\"n_o2dg\"])\n",
    "#cpap ln\n",
    "df_filtered[\"ln_n_dag_hhhfnc_cpap_nippv\"] = np.log1p(df_filtered[\"n_dag_hhhfnc_cpap_nippv\"])\n",
    "#conv ln\n",
    "df_filtered[\"ln_n_dag_conv_hfo\"] = np.log1p(df_filtered[\"n_dag_conv_hfo\"])"
   ]
  },
  {
   "cell_type": "code",
   "execution_count": null,
   "metadata": {},
   "outputs": [],
   "source": [
    "relevant_criteria"
   ]
  },
  {
   "cell_type": "code",
   "execution_count": null,
   "metadata": {},
   "outputs": [],
   "source": [
    "#fill n_opname_ind_overigind with 0 for nan\n",
    "df_filtered[\"n_opname_ind_overigind\"].fillna(0,inplace=True)"
   ]
  },
  {
   "cell_type": "code",
   "execution_count": null,
   "metadata": {},
   "outputs": [],
   "source": [
    "#fill hoftizer with 50\n",
    "df_filtered[\"hoftiezer\"].fillna(50,inplace=True)\n",
    "df_filtered[\"n_klinisch_sepsisvroeg\"].fillna(0,inplace=True)"
   ]
  },
  {
   "cell_type": "code",
   "execution_count": null,
   "metadata": {},
   "outputs": [],
   "source": [
    "#show above 300 ammdd\n",
    "df_filtered[df_filtered[\"amddd\"]>290].sort_values(by=\"n_opnduur\",ascending=False)"
   ]
  },
  {
   "cell_type": "code",
   "execution_count": null,
   "metadata": {},
   "outputs": [],
   "source": [
    "#set squared amddd\n",
    "df_filtered[\"squared_amddd\"] = df_filtered[\"amddd\"]**2"
   ]
  },
  {
   "cell_type": "code",
   "execution_count": null,
   "metadata": {},
   "outputs": [],
   "source": [
    "ward = \"medium\"\n",
    "gestational_age_cut = 224\n",
    "x_criteria = []\n",
    "\n",
    "x_criteria_1 =[\"amddd\", 'n_opname_ind_asfyxie','n_opname_ind_postichc','n_antibiotica','n_o2dg','n_dag_hhhfnc_cpap_nippv','n_opname_ind_overigind',\"c_section\"]\n",
    "x_criteria_2 = [\"amddd\",'n_hyperbilli','geboortegew','n_o2dg',\"c_section\"]\n",
    "\n",
    "x_criteria_3 = [\"squared_amddd\",'geboortegew','n_o2dg','n_opname_ind_infectie','n_opname_ind_asfyxie',\"c_section\"]\n",
    "#set ln of n_opnduur\n",
    "\n",
    "\n",
    "model_1 = Lasso(alpha=0.2,fit_intercept=True)\n",
    "#filter only amddd > 220\n",
    "df_filtered_1 = df_filtered[df_filtered[\"amddd\"] <= gestational_age_cut]\n",
    "X = df_filtered_1[x_criteria_1]\n",
    "\n",
    "y = df_filtered_1['n_opnduur']\n",
    "model_1.fit(X,y)\n",
    "\n",
    "df_filtered.loc[df_filtered['amddd'] <= gestational_age_cut, 'predicted_n_opnduur'] = (model_1.predict(X))\n",
    "#filter larger than gestational_age_cut but smaller tahn 260\n",
    "\n",
    "\n",
    "#intercept\n",
    "\n",
    "#coefficents with names and p values\n",
    "coefficients = pd.DataFrame(model_1.coef_,index=x_criteria_1,columns=['coefficients'])\n",
    "print(coefficients)\n",
    "print(r2_score(y,model_1.predict(X)))\n",
    "print(mean_squared_error(y,model_1.predict(X)))\n",
    "#print constant\n",
    "print(model_1.intercept_)\n",
    "df_filtered_2 = df_filtered[(df_filtered[\"amddd\"] > gestational_age_cut) & (df_filtered[\"amddd\"] < 260)]\n",
    "X = df_filtered_2[x_criteria_2]\n",
    "\n",
    "y = df_filtered_2['n_opnduur']\n",
    "model_2 = Lasso(alpha=0.1,fit_intercept=True)\n",
    "model_2.fit(X,y)\n",
    "df_filtered.loc[(df_filtered[\"amddd\"] > gestational_age_cut) & (df_filtered[\"amddd\"] < 260), 'predicted_n_opnduur'] = (model_2.predict(X))\n",
    "\n",
    "coefficients = pd.DataFrame(model_2.coef_,index=x_criteria_2,columns=['coefficients'])\n",
    "print(coefficients)\n",
    "print(r2_score(y,model_2.predict(X)))\n",
    "print(mean_squared_error(y,model_2.predict(X)))\n",
    "#print constant\n",
    "print(model_2.intercept_)\n",
    "\n",
    "model_3 = Lasso(alpha=0.1,fit_intercept=True)\n",
    "#filter only amddd > 220\n",
    "df_filtered_3 = df_filtered[(df_filtered[\"amddd\"] >= 260) ]\n",
    "X = df_filtered_3[x_criteria_3]\n",
    "\n",
    "y = df_filtered_3['n_opnduur']\n",
    "model_3.fit(X,y)\n",
    "\n",
    "df_filtered.loc[ (df_filtered[\"amddd\"] >= 260), 'predicted_n_opnduur'] = (model_3.predict(X))\n",
    "#filter larger than gestational_age_cut but smaller tahn 260\n",
    "\n",
    "\n",
    "#intercept\n",
    "\n",
    "#coefficents with names and p values\n",
    "coefficients = pd.DataFrame(model_3.coef_,index=x_criteria_3,columns=['coefficients'])\n",
    "print(coefficients)\n",
    "print(r2_score(y,model_3.predict(X)))\n",
    "print(mean_squared_error(y,model_3.predict(X)))\n",
    "#print constant\n",
    "print(model_3.intercept_)\n",
    "plt.figure(figsize=(8,6))\n",
    "sns.lineplot(data=df_filtered,x='amddd',y='predicted_n_opnduur',label='predicted_los')\n",
    "sns.lineplot(data=df_filtered,x='amddd',y='n_opnduur',label='actual_los')\n",
    "plt.legend()\n",
    "plt.show()\n"
   ]
  },
  {
   "cell_type": "code",
   "execution_count": null,
   "metadata": {},
   "outputs": [],
   "source": [
    "#filter and plot from 260 amddd\n",
    "df_filtered_260 = df_filtered[df_filtered[\"amddd\"]>=260]\n",
    "plt.figure(figsize=(8,6))\n",
    "sns.lineplot(data=df_filtered_260,x='amddd',y='predicted_n_opnduur',label='predicted_los')\n",
    "sns.lineplot(data=df_filtered_260,x='amddd',y='n_opnduur',label='actual_los')\n",
    "plt.legend()\n",
    "plt.show()\n"
   ]
  },
  {
   "cell_type": "code",
   "execution_count": null,
   "metadata": {},
   "outputs": [],
   "source": [
    "df_filtered[\"diff\"] = np.abs(df_filtered[\"n_opnduur\"] - (df_filtered[\"predicted_n_opnduur\"]).astype(int))\n",
    "\n",
    "df_filtered[\"diff\"].describe()"
   ]
  },
  {
   "cell_type": "code",
   "execution_count": null,
   "metadata": {},
   "outputs": [],
   "source": [
    "# If 'n_opnduur' is smaller than 'n_o2dg', 'n_dag_conv_hfo', or 'n_dag_hhhfnc_cpap_nippv', \n",
    "# set 'n_opnduur' to the highest of the three\n",
    "\n",
    "# Create a mask for rows where 'n_opnduur' is smaller than the maximum of the other three columns\n",
    "mask = df_filtered['predicted_n_opnduur'] < df_filtered[['n_o2dg', 'n_dag_conv_hfo', 'n_dag_hhhfnc_cpap_nippv']].max(axis=1)\n",
    "\n",
    "# Use the mask to select rows and assign the maximum value to 'n_opnduur'\n",
    "df_filtered.loc[mask, 'predicted_n_opnduur'] = df_filtered.loc[mask, ['n_o2dg', 'n_dag_conv_hfo', 'n_dag_hhhfnc_cpap_nippv']].max(axis=1)"
   ]
  },
  {
   "cell_type": "code",
   "execution_count": null,
   "metadata": {},
   "outputs": [],
   "source": [
    "#if predicted 0 then set to 1\n",
    "df_filtered.loc[df_filtered['predicted_n_opnduur'] <= 0, 'predicted_n_opnduur'] = 1"
   ]
  },
  {
   "cell_type": "code",
   "execution_count": null,
   "metadata": {},
   "outputs": [],
   "source": [
    "df_filtered[\"predicted_n_opnduur\"].astype(int).describe()"
   ]
  },
  {
   "cell_type": "code",
   "execution_count": null,
   "metadata": {},
   "outputs": [],
   "source": [
    "df_filtered[\"n_opnduur\"].describe()"
   ]
  },
  {
   "cell_type": "code",
   "execution_count": null,
   "metadata": {},
   "outputs": [],
   "source": [
    "#show max diff\n",
    "df_filtered.sort_values(by=\"diff\",ascending=False).head(30)"
   ]
  },
  {
   "cell_type": "code",
   "execution_count": null,
   "metadata": {},
   "outputs": [],
   "source": [
    "#histogram of diff\n",
    "plt.figure(figsize=(8,6))\n",
    "sns.histplot(data=df_filtered,x='diff',kde=True)\n",
    "plt.title('Difference between actual and predicted')\n",
    "plt.show()\n"
   ]
  },
  {
   "cell_type": "code",
   "execution_count": null,
   "metadata": {},
   "outputs": [],
   "source": []
  }
 ],
 "metadata": {
  "kernelspec": {
   "display_name": ".venv",
   "language": "python",
   "name": "python3"
  },
  "language_info": {
   "codemirror_mode": {
    "name": "ipython",
    "version": 3
   },
   "file_extension": ".py",
   "mimetype": "text/x-python",
   "name": "python",
   "nbconvert_exporter": "python",
   "pygments_lexer": "ipython3",
   "version": "3.12.4"
  }
 },
 "nbformat": 4,
 "nbformat_minor": 2
}
