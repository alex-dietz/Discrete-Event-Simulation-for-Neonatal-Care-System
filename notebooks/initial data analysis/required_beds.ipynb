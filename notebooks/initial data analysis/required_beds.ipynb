{
 "cells": [
  {
   "cell_type": "markdown",
   "metadata": {},
   "source": [
    "<h1>Required Beds </h1>\n",
    "\n",
    "This notebook was used to analyze the number of required beds for inside region patients in the dataset to provide values to compare to simulation outputs."
   ]
  },
  {
   "cell_type": "code",
   "execution_count": null,
   "metadata": {},
   "outputs": [],
   "source": [
    "import numpy as np\n",
    "import pandas as pd\n",
    "import seaborn as sns\n",
    "import matplotlib.pyplot as plt\n",
    "#seaborn settings\n",
    "sns.set_theme(style=\"whitegrid\")\n",
    "sns.set_context(\"paper\")\n",
    "sns.despine(left=True,right=True)\n",
    "#deactivate warnings\n",
    "import warnings\n",
    "warnings.filterwarnings('ignore')\n",
    "#import smf\n",
    "\n"
   ]
  },
  {
   "cell_type": "code",
   "execution_count": null,
   "metadata": {},
   "outputs": [],
   "source": [
    "#load df\n",
    "df = pd.read_csv(\"example_dataset.csv\")\n",
    "df.head(20)"
   ]
  },
  {
   "cell_type": "code",
   "execution_count": null,
   "metadata": {},
   "outputs": [],
   "source": [
    "#difference in days between lowest and latest start_date\n",
    "#start date to date\n",
    "df[\"start_date\"] = pd.to_datetime(df[\"start_date\"])\n",
    "\n",
    "number_of_days = (df[\"start_date\"].max() - df[\"start_date\"].min())\n",
    "#number_of_days to int\n",
    "number_of_days = number_of_days.days\n",
    "number_of_days"
   ]
  },
  {
   "cell_type": "code",
   "execution_count": null,
   "metadata": {},
   "outputs": [],
   "source": [
    "#show all patient_region\n",
    "df[\"region\"].unique()"
   ]
  },
  {
   "cell_type": "code",
   "execution_count": null,
   "metadata": {},
   "outputs": [],
   "source": [
    "#filter only patients with patient_region != 'Other (Outside)' and not 'Regio Delft\n",
    "df = df[df[\"region\"] != 'Other (Outside)']\n",
    "df = df[df[\"region\"] != 'Regio Delft']\n",
    "df[\"region\"].unique()"
   ]
  },
  {
   "cell_type": "code",
   "execution_count": null,
   "metadata": {},
   "outputs": [],
   "source": [
    "df['ward_level'] = df['ward_level'].apply(lambda x: 'high' if x == 'unknown' and np.random.rand() < 0.6 else 'medium' if x == 'unknown' else x)"
   ]
  },
  {
   "cell_type": "code",
   "execution_count": null,
   "metadata": {},
   "outputs": [],
   "source": [
    "#sum all length_of_stay per ward_level\n",
    "patient_days = df.groupby(\"ward_level\")[\"length_of_stay\"].sum()\n",
    "patient_days.reset_index()\n"
   ]
  },
  {
   "cell_type": "code",
   "execution_count": null,
   "metadata": {},
   "outputs": [],
   "source": [
    "#divide length_of_stay by number_of_days\n",
    "patient_days = patient_days / number_of_days\n",
    "patient_days"
   ]
  },
  {
   "cell_type": "code",
   "execution_count": null,
   "metadata": {},
   "outputs": [],
   "source": []
  }
 ],
 "metadata": {
  "kernelspec": {
   "display_name": ".venv",
   "language": "python",
   "name": "python3"
  },
  "language_info": {
   "codemirror_mode": {
    "name": "ipython",
    "version": 3
   },
   "file_extension": ".py",
   "mimetype": "text/x-python",
   "name": "python",
   "nbconvert_exporter": "python",
   "pygments_lexer": "ipython3",
   "version": "3.12.4"
  }
 },
 "nbformat": 4,
 "nbformat_minor": 2
}
