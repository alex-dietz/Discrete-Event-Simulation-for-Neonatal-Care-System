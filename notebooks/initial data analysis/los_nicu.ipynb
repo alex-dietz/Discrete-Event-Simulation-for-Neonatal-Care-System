{
 "cells": [
  {
   "cell_type": "markdown",
   "metadata": {},
   "source": [
    "<h1> Length of Stay NICU </h1>\n",
    "\n",
    "This notebook was used to analyze the LoS for NICU patients in the dataset and obtain the ridge regression coefficients. If running with the example data, it should run into an error at the correlation matrices."
   ]
  },
  {
   "cell_type": "code",
   "execution_count": null,
   "metadata": {},
   "outputs": [],
   "source": [
    "import numpy as np\n",
    "import pandas as pd\n",
    "import seaborn as sns\n",
    "\n",
    "import matplotlib.pyplot as plt\n",
    "#seaborn settings\n",
    "sns.set_theme(style=\"whitegrid\",palette=\"colorblind\",font_scale=1.5)\n",
    "sns.set_context(\"paper\")\n",
    "sns.despine(left=True,right=True)\n",
    "#deactivate warnings\n",
    "import warnings\n",
    "warnings.filterwarnings('ignore')\n",
    "#import smf\n",
    "import statsmodels.api as sm\n",
    "import statsmodels.formula.api as smf"
   ]
  },
  {
   "cell_type": "code",
   "execution_count": null,
   "metadata": {},
   "outputs": [],
   "source": [
    "df = pd.read_csv(\"example_dataset.csv\")"
   ]
  },
  {
   "cell_type": "code",
   "execution_count": null,
   "metadata": {},
   "outputs": [],
   "source": [
    "#filter out ward_level unknown\n",
    "df = df[df[\"ward_level\"] != \"unknown\"]"
   ]
  },
  {
   "cell_type": "code",
   "execution_count": null,
   "metadata": {},
   "outputs": [],
   "source": [
    "ward_order = ['NICU', 'High', 'Medium']\n",
    "df['ward_level'] = pd.Categorical(df['ward_level'], categories=ward_order, ordered=True)\n",
    "df = df.sort_values(by=['ward_level'])\n",
    " \n",
    "plt.figure(figsize=(8, 6), dpi=400)\n",
    " \n",
    "# Plot the scatterplot\n",
    "sns.lineplot(data=df, y='length_of_stay', x='gestational_age', hue='ward_level', hue_order=ward_order)\n",
    " \n",
    "# Set x and y labels\n",
    "plt.xlabel(\"Gestational Age (weeks)\")\n",
    "plt.ylabel(\"Length of Stay (days)\")\n",
    " \n",
    "# Set title\n",
    "plt.title(\"Length of Stay vs Gestational Age across Ward Levels\")\n",
    " \n",
    "# Modify legend\n",
    "plt.legend(title='Ward Level')\n",
    " \n",
    "# Show plot\n",
    "plt.show()"
   ]
  },
  {
   "cell_type": "code",
   "execution_count": null,
   "metadata": {},
   "outputs": [],
   "source": [
    "#correlation for \n",
    "df_filtered_corr = df.drop(columns=[\"ward\",\"ward_level\"])\n",
    "#criteria only gestational_age, n_opnduur,n_hyperbilli,n_02dg,cpap,conv_hfo\n",
    "criteria = [\"gestational_age\",'birth_weight',\"phototherapy\",'oxygen_days','hfo_days','cpap_days']\n",
    "#remove ward and ward level from criteria\n",
    "criteria = [c for c in criteria if c not in [\"ward\",\"ward_level\"]]\n",
    "\n",
    "corr_matrix = df_filtered_corr[criteria].corr()\n",
    "\n",
    "plt.figure(figsize=(8,6),dpi=400)\n",
    "sns.heatmap(corr_matrix,annot=True,cmap='coolwarm')\n",
    "#rotate x labels\n",
    "plt.xticks(rotation=45)\n",
    "plt.title('Correlation matrix for factors influencing LoS')\n",
    "plt.show()"
   ]
  },
  {
   "cell_type": "code",
   "execution_count": null,
   "metadata": {},
   "outputs": [],
   "source": [
    "df[df[\"ward_level\"]==\"nicu\"].sort_values(by=\"length_of_stay\",ascending=False).head(30)"
   ]
  },
  {
   "cell_type": "code",
   "execution_count": null,
   "metadata": {},
   "outputs": [],
   "source": [
    "df_ward = df[df[\"ward_level\"]==\"nicu\"]"
   ]
  },
  {
   "cell_type": "code",
   "execution_count": null,
   "metadata": {},
   "outputs": [],
   "source": [
    "#show all columns\n",
    "pd.set_option('display.max_columns', None)"
   ]
  },
  {
   "cell_type": "code",
   "execution_count": null,
   "metadata": {},
   "outputs": [],
   "source": [
    "#show 5 largest length_of_stay\n",
    "df_ward.sort_values(by=\"length_of_stay\",ascending=False).head(5)\n"
   ]
  },
  {
   "cell_type": "code",
   "execution_count": null,
   "metadata": {},
   "outputs": [],
   "source": [
    "plt.figure(figsize=(8, 6), dpi=400)\n",
    " \n",
    "# Plot the scatterplot\n",
    "sns.lineplot(data=df_ward, y='length_of_stay', x='gestational_age')\n",
    " \n",
    "# Set x and y labels\n",
    "plt.xlabel(\"Gestational Age (weeks)\")\n",
    "plt.ylabel(\"Length of Stay (days)\")\n",
    " \n",
    "# Set title\n",
    "plt.title(\"Length of Stay vs Gestational Age for NICU\")\n",
    " \n",
    "\n",
    " \n",
    "# Show plot\n",
    "plt.show()"
   ]
  },
  {
   "cell_type": "code",
   "execution_count": null,
   "metadata": {},
   "outputs": [],
   "source": [
    "#show highest o2 values\n",
    "df_ward.sort_values(by=\"length_of_stay\",ascending=False).head(30)"
   ]
  },
  {
   "cell_type": "code",
   "execution_count": null,
   "metadata": {},
   "outputs": [],
   "source": [
    "relevant_criteria = [\n",
    "\n",
    " 'number_of_children',\n",
    " 'gestational_age',\n",
    " 'gestational_age',\n",
    " 'sex',\n",
    " 'birth_weight',\n",
    " 'c_section',\n",
    "\n",
    " 'stay_number',\n",
    "\n",
    "\n",
    " 'length_of_stay',\n",
    " 'thrombocytopenia_treatment',\n",
    " 'antibiotics_treatment',\n",
    " 'hypothermia',\n",
    " \n",
    " 'antenatal_steroids_treatment',\n",
    " 'phototherapy',\n",
    " 'polycythemia_treatment',\n",
    " 'sepsis_treatment',\n",
    " 'anemia_treatment',\n",
    " 'oxygen_days',\n",
    " 'hfo_days',\n",
    " 'cpap_days',\n",
    " 'gestational_age_indicator',\n",
    " 'birth_weight_indicator',\n",
    " 'cardiovascular_indicator',\n",
    " 'jaundice_indicator',\n",
    " 'hypoglycemia_indicator',\n",
    " 'infection_indicator',\n",
    " 'asphyxia_indicator',\n",
    " 'seizure_indicator',\n",
    " 'feeding_indicator',\n",
    " 'congenital_abnormality_indicator',\n",
    " 'withdrawal_indicator',\n",
    " 'maternal_medication_indicator',\n",
    " 'psycho_indicator',\n",
    " 'postIC_indicator',\n",
    " 'others_indicator',\n",
    " \n",
    " \n",
    "\n",
    " \n",
    " 'month',\n",
    " 'ward',\n",
    "    'ward_level',\n",
    "\n",
    "\n",
    "\n",
    "]\n",
    "admission_criteria = ['gestational_age_indicator',\n",
    " 'birth_weight_indicator',\n",
    " 'cardiovascular_indicator',\n",
    " 'jaundice_indicator',\n",
    " 'hypoglycemia_indicator',\n",
    " 'infection_indicator',\n",
    " 'asphyxia_indicator',\n",
    " 'seizure_indicator',\n",
    " 'feeding_indicator',\n",
    " 'congenital_abnormality_indicator',\n",
    " 'withdrawal_indicator',\n",
    " 'maternal_medication_indicator',\n",
    " 'psycho_indicator',\n",
    " 'postIC_indicator',\n",
    " 'others_indicator'\n",
    "]"
   ]
  },
  {
   "cell_type": "code",
   "execution_count": null,
   "metadata": {},
   "outputs": [],
   "source": [
    "df_filtered = df_ward[relevant_criteria]"
   ]
  },
  {
   "cell_type": "code",
   "execution_count": null,
   "metadata": {},
   "outputs": [],
   "source": [
    "\n",
    "    \n",
    "#drop ward\n",
    "df_filtered_corr = df_filtered.drop(columns=[\"ward\",\"ward_level\"])\n",
    "\n",
    "corr_matrix = df_filtered_corr.corr()[['length_of_stay']]\n",
    "print(corr_matrix)\n",
    "plt.figure(figsize=(8,6))\n",
    "sns.heatmap(corr_matrix,annot=True,cmap='coolwarm')\n",
    "plt.title('NICU')\n",
    "plt.show()"
   ]
  },
  {
   "cell_type": "code",
   "execution_count": null,
   "metadata": {},
   "outputs": [],
   "source": [
    "#describe length of stay\n",
    "df_filtered['length_of_stay'].describe()"
   ]
  },
  {
   "cell_type": "code",
   "execution_count": null,
   "metadata": {},
   "outputs": [],
   "source": [
    "gestational_age_cut = 224\n",
    "#drop ward\n",
    "\n",
    "for i in range(0,2):\n",
    "    df_filtered_corr = df_filtered.drop(columns=[\"ward\",\"ward_level\",'gestational_age','stay_number','month'])\n",
    "    #filter for gestational age\n",
    "    if i == 0:\n",
    "        df_filtered_corr = df_filtered_corr[df_filtered_corr[\"gestational_age\"]<=gestational_age_cut]\n",
    "    else:\n",
    "        df_filtered_corr = df_filtered_corr[df_filtered_corr[\"gestational_age\"]>gestational_age_cut]\n",
    "    print(\"Gestational age cut:\",gestational_age_cut, i)\n",
    "    corr_matrix = df_filtered_corr.corr()[['length_of_stay']]\n",
    "    print(corr_matrix)\n",
    "    plt.figure(figsize=(8,6),dpi=400)\n",
    "    sns.heatmap(corr_matrix,annot=True,cmap='coolwarm')\n",
    "    plt.title('NICU')\n",
    "    plt.show()"
   ]
  },
  {
   "cell_type": "markdown",
   "metadata": {},
   "source": [
    "<h3>Ridge Regression </h3>"
   ]
  },
  {
   "cell_type": "code",
   "execution_count": null,
   "metadata": {},
   "outputs": [],
   "source": [
    "from sklearn.linear_model import Ridge\n",
    "from sklearn.model_selection import train_test_split\n",
    "from sklearn.metrics import mean_squared_error\n",
    "#import r2_score\n",
    "from sklearn.metrics import r2_score\n"
   ]
  },
  {
   "cell_type": "code",
   "execution_count": null,
   "metadata": {},
   "outputs": [],
   "source": [
    "ward = \"nicu\"\n",
    "gestational_age_cut = 224\n",
    "x_criteria = []\n",
    "\n",
    "x_criteria_1 = [\"gestational_age\",'birth_weight','phototherapy','anemia_treatment','cpap_days','oxygen_days','hfo_days','thrombocytopenia_treatment','antibiotics_treatment']\n",
    "\n",
    "x_criteria_2 = [\"gestational_age\",'birth_weight','anemia_treatment','oxygen_days','cpap_days','hfo_days']\n",
    "#set ln of n_opnduur\n",
    "\n",
    "\n",
    "model_1 = Ridge(alpha=1,solver='auto',fit_intercept=True)\n",
    "#filter only gestational_age > 220\n",
    "df_filtered_1 = df_filtered[df_filtered[\"gestational_age\"] > gestational_age_cut]\n",
    "X = df_filtered_1[x_criteria_1]\n",
    "\n",
    "y = df_filtered_1['length_of_stay']\n",
    "model_1.fit(X,y)\n",
    "\n",
    "df_filtered.loc[df_filtered['gestational_age'] > gestational_age_cut, 'predicted_los'] = (model_1.predict(X))\n",
    "print(r2_score(y,model_1.predict(X)))\n",
    "print(mean_squared_error(y,model_1.predict(X)))\n",
    "#intercept\n",
    "print(\"intercept: \",model_1.intercept_)\n",
    "#coefficents with names and p values\n",
    "coefficients = pd.DataFrame(model_1.coef_,index=x_criteria_1,columns=['coefficients'])\n",
    "print(coefficients)\n",
    "df_filtered_2 = df_filtered[df_filtered[\"gestational_age\"] <= gestational_age_cut]\n",
    "X = df_filtered_2[x_criteria_2]\n",
    "\n",
    "y = df_filtered_2['length_of_stay']\n",
    "model_2 = Ridge(alpha=1,solver='auto',fit_intercept=True)\n",
    "model_2.fit(X,y)\n",
    "df_filtered.loc[df_filtered['gestational_age'] <= gestational_age_cut, 'predicted_los'] = (model_2.predict(X))\n",
    "mask = df_filtered['predicted_los'] < df_filtered[['oxygen_days', 'hfo_days', 'cpap_days']].max(axis=1)\n",
    "\n",
    "# Use the mask to select rows and assign the maximum value to 'n_opnduur'\n",
    "df_filtered.loc[mask, 'predicted_los'] = df_filtered.loc[mask, ['oxygen_days', 'hfo_days', 'cpap_days']].max(axis=1)\n",
    "df_filtered['predicted_los'] = df_filtered['predicted_los'].astype(int)\n",
    "df_filtered.loc[df_filtered['predicted_los'] == 0, 'predicted_los'] = 1\n",
    "print(r2_score(y,df_filtered.loc[df_filtered['gestational_age'] <= gestational_age_cut, 'predicted_los']))\n",
    "print(mean_squared_error(y,df_filtered.loc[df_filtered['gestational_age'] <= gestational_age_cut, 'predicted_los']))\n",
    "print(model_2.intercept_)\n",
    "coefficients = pd.DataFrame(model_2.coef_,index=x_criteria_2,columns=['coefficients'])\n",
    "print(coefficients)\n",
    "\n",
    "plt.figure(figsize=(8,6),dpi=400)\n",
    "#title\n",
    "plt.title('Actual vs Predicted LoS for NICU')\n",
    "sns.lineplot(data=df_filtered,x='gestational_age',y='predicted_los',label='Predicted LoS')\n",
    "sns.lineplot(data=df_filtered,x='gestational_age',y='length_of_stay',label='Actual LoS')\n",
    "print(r2_score(df_filtered['length_of_stay'],df_filtered['predicted_los']))\n",
    "#set y as LoS\n",
    "plt.ylabel(\"LoS (days)\")\n",
    "plt.xlabel(\"gestational age (weeks)\")\n",
    "plt.legend()\n",
    "plt.show()\n"
   ]
  },
  {
   "cell_type": "code",
   "execution_count": null,
   "metadata": {},
   "outputs": [],
   "source": [
    "# If 'n_opnduur' is smaller than 'n_o2dg', 'n_dag_conv_hfo', or 'n_dag_hhhfnc_cpap_nippv', \n",
    "# set 'n_opnduur' to the highest of the three\n",
    "\n",
    "# Create a mask for rows where 'n_opnduur' is smaller than the maximum of the other three columns\n",
    "mask = df_filtered['predicted_los'] < df_filtered[['oxygen_days', 'hfo_days', 'cpap_days']].max(axis=1)\n",
    "\n",
    "# Use the mask to select rows and assign the maximum value to 'n_opnduur'\n",
    "df_filtered.loc[mask, 'predicted_los'] = df_filtered.loc[mask, ['oxygen_days', 'hfo_days', 'cpap_days']].max(axis=1)\n"
   ]
  },
  {
   "cell_type": "code",
   "execution_count": null,
   "metadata": {},
   "outputs": [],
   "source": [
    "# set predicted as int\n",
    "df_filtered['predicted_los'] = df_filtered['predicted_los'].astype(int)"
   ]
  },
  {
   "cell_type": "code",
   "execution_count": null,
   "metadata": {},
   "outputs": [],
   "source": [
    "#if predicted 0 then set to 1\n",
    "df_filtered.loc[df_filtered['predicted_los'] == 0, 'predicted_los'] = 1"
   ]
  },
  {
   "cell_type": "code",
   "execution_count": null,
   "metadata": {},
   "outputs": [],
   "source": [
    "df_filtered[\"predicted_los\"].astype(int).describe()"
   ]
  },
  {
   "cell_type": "code",
   "execution_count": null,
   "metadata": {},
   "outputs": [],
   "source": [
    "print(r2_score(df_filtered[\"length_of_stay\"],df_filtered[\"predicted_los\"]))"
   ]
  },
  {
   "cell_type": "code",
   "execution_count": null,
   "metadata": {},
   "outputs": [],
   "source": [
    "df_filtered[df_filtered[\"gestational_age\"]<=224][\"length_of_stay\"].describe()"
   ]
  },
  {
   "cell_type": "code",
   "execution_count": null,
   "metadata": {},
   "outputs": [],
   "source": [
    "#describe for below 220\n",
    "df_filtered[df_filtered[\"gestational_age\"]<=gestational_age_cut][\"predicted_los\"].describe()"
   ]
  },
  {
   "cell_type": "code",
   "execution_count": null,
   "metadata": {},
   "outputs": [],
   "source": [
    "#describe for below 220\n",
    "df_filtered[df_filtered[\"gestational_age\"]>gestational_age_cut][\"predicted_los\"].describe()"
   ]
  },
  {
   "cell_type": "code",
   "execution_count": null,
   "metadata": {},
   "outputs": [],
   "source": [
    "df_filtered[df_filtered[\"gestational_age\"]>gestational_age_cut][\"length_of_stay\"].describe()"
   ]
  },
  {
   "cell_type": "code",
   "execution_count": null,
   "metadata": {},
   "outputs": [],
   "source": [
    "#biggest difference between predicted and actual\n",
    "df_filtered[\"diff\"] = df_filtered[\"predicted_los\"] - df_filtered[\"length_of_stay\"]\n",
    "df_filtered[df_filtered[\"gestational_age\"]<=220][\"diff\"].describe()"
   ]
  },
  {
   "cell_type": "code",
   "execution_count": null,
   "metadata": {},
   "outputs": [],
   "source": [
    "df_filtered[df_filtered[\"gestational_age\"]>220][\"diff\"].describe()"
   ]
  },
  {
   "cell_type": "code",
   "execution_count": null,
   "metadata": {},
   "outputs": [],
   "source": [
    "df_filtered[[\"length_of_stay\",'predicted_los']].describe()"
   ]
  }
 ],
 "metadata": {
  "kernelspec": {
   "display_name": ".venv",
   "language": "python",
   "name": "python3"
  },
  "language_info": {
   "codemirror_mode": {
    "name": "ipython",
    "version": 3
   },
   "file_extension": ".py",
   "mimetype": "text/x-python",
   "name": "python",
   "nbconvert_exporter": "python",
   "pygments_lexer": "ipython3",
   "version": "3.12.2"
  }
 },
 "nbformat": 4,
 "nbformat_minor": 2
}
